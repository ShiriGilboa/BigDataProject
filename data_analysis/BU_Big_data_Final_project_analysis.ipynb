{
 "cells": [
  {
   "cell_type": "markdown",
   "metadata": {},
   "source": [
    "# __Bid data platforms final project - Data analysis__"
   ]
  },
  {
   "cell_type": "markdown",
   "metadata": {},
   "source": [
    "## Imports"
   ]
  },
  {
   "cell_type": "code",
   "execution_count": null,
   "metadata": {
    "id": "IDexHskEgkky"
   },
   "outputs": [],
   "source": [
    "import warnings\n",
    "import glob\n",
    "from pyspark.ml.tuning import CrossValidator, ParamGridBuilder\n",
    "from pyspark.ml.evaluation import BinaryClassificationEvaluator\n",
    "from pyspark.ml.feature import VectorAssembler, MinMaxScaler\n",
    "import pyspark.pandas as ps\n",
    "from pyspark.sql import SparkSession\n",
    "import matplotlib.lines as mlines\n",
    "import matplotlib.pyplot as plt\n",
    "import seaborn as sns\n",
    "import pyspark\n",
    "import pandas as pd\n",
    "import numpy as np\n",
    "import os\n",
    "import random\n",
    "import sqlite3\n",
    "import findspark\n",
    "findspark.init()\n",
    "\n",
    "ps.set_option('compute.ops_on_diff_frames', True)\n",
    "\n",
    "%matplotlib inline\n",
    "sns.set_style(\"darkgrid\")\n",
    "\n",
    "warnings.filterwarnings('ignore')\n"
   ]
  },
  {
   "cell_type": "markdown",
   "metadata": {},
   "source": [
    "## Utils"
   ]
  },
  {
   "cell_type": "code",
   "execution_count": null,
   "metadata": {},
   "outputs": [],
   "source": [
    "figure_count = 0\n"
   ]
  },
  {
   "cell_type": "code",
   "execution_count": null,
   "metadata": {},
   "outputs": [],
   "source": [
    "def index_to_strings(argument, team_name, stat_name, value):\n",
    "    switcher = {\n",
    "        0: f\"Team with highest {stat_name} is {team_name} - {value}\",\n",
    "        1: f\"Team with 2nd highest {stat_name} is {team_name} - {value}\",\n",
    "        2: f\"Team with 3rd highest {stat_name} is {team_name} - {value}\",\n",
    "    }\n",
    "\n",
    "    return switcher.get(argument, \"nothing\")\n"
   ]
  },
  {
   "cell_type": "code",
   "execution_count": null,
   "metadata": {},
   "outputs": [],
   "source": [
    "def index_to_strings_players(argument, player_name, stat_name, value):\n",
    "    switcher = {\n",
    "        0: f\"Player with highest {stat_name} is {player_name} - {value}\",\n",
    "        1: f\"Player with 2nd highest {stat_name} is {player_name} - {value}\",\n",
    "        2: f\"Player with 3rd highest {stat_name} is {player_name} - {value}\",\n",
    "    }\n",
    "\n",
    "    return switcher.get(argument, \"nothing\")\n"
   ]
  },
  {
   "cell_type": "markdown",
   "metadata": {},
   "source": [
    "## Read data"
   ]
  },
  {
   "cell_type": "code",
   "execution_count": null,
   "metadata": {},
   "outputs": [],
   "source": [
    "DEFAULT_DB_NAME = \"NBA_DATA_BIG_DATA_PROJECT.db\"\n",
    "\n",
    "conn = sqlite3.connect(os.path.join(\"../NBA_DATA_BIG_DATA_PROJECT.db\"))\n",
    "print(os.getcwd())\n",
    "\n",
    "print(os.path.exists(\"../NBA_DATA_BIG_DATA_PROJECT.db\"))\n",
    "cursor = conn.cursor()\n",
    "\n",
    "# Getting all tables from sqlite_master\n",
    "query = \"\"\"SELECT name FROM sqlite_master\n",
    "           WHERE type='table';\"\"\"\n",
    "\n",
    "# executing our sql query\n",
    "cursor.execute(query)\n",
    "print(\"List of tables\\n\")\n",
    "\n",
    "# printing all tables list\n",
    "print(cursor.fetchall())\n",
    "os.path.exists(\"../NBA_DATA_BIG_DATA_PROJECT.db\")"
   ]
  },
  {
   "cell_type": "code",
   "execution_count": null,
   "metadata": {},
   "outputs": [],
   "source": [
    "Games = pd.read_sql_query(\"SELECT * from Games\", conn)\n",
    "Games.to_csv(\"Games.csv\", index=False)\n",
    "\n",
    "Players = pd.read_sql_query(\"SELECT * from Players\", conn)\n",
    "Players.to_csv(\"Players.csv\", index=False)\n",
    "\n",
    "Teams = pd.read_sql_query(\"SELECT * from Teams\", conn)\n",
    "Teams.to_csv(\"Teams.csv\", index=False)\n",
    "\n",
    "TeamRosters = pd.read_sql_query(\"SELECT * from TeamRosters\", conn)\n",
    "TeamRosters.to_csv(\"TeamRosters.csv\", index=False)\n",
    "\n",
    "GameLineUps = pd.read_sql_query(\"SELECT * from GameLineUps\", conn)\n",
    "GameLineUps.to_csv(\"GameLineUp.csv\", index=False)\n",
    "\n",
    "GameTeamScores = pd.read_sql_query(\"SELECT * from GameTeamScores\", conn)\n",
    "GameTeamScores.to_csv(\"GameTeamScore.csv\", index=False)\n",
    "\n",
    "GamePlayerScores = pd.read_sql_query(\"SELECT * from GamePlayerScores\", conn)\n",
    "GamePlayerScores.to_csv(\"GamePlayerScore.csv\", index=False)\n"
   ]
  },
  {
   "cell_type": "code",
   "execution_count": null,
   "metadata": {},
   "outputs": [],
   "source": [
    "spark = (\n",
    "    SparkSession.builder.appName(\"treatmeant\")\n",
    "    .config(\"spark.sql.codegen.wholeStage\", \"false\")\n",
    "    .getOrCreate()\n",
    ")\n"
   ]
  },
  {
   "cell_type": "code",
   "execution_count": null,
   "metadata": {},
   "outputs": [],
   "source": [
    "# Use Spark to read the training csv file.\n",
    "teams = spark.read.csv(\"Teams.csv\", inferSchema=True, header=True)\n",
    "teams = teams.to_pandas_on_spark()\n",
    "\n",
    "players = spark.read.csv(\"Players.csv\", inferSchema=True, header=True)\n",
    "players = players.to_pandas_on_spark()\n",
    "\n",
    "games = spark.read.csv(\"Games.csv\", inferSchema=True, header=True)\n",
    "games = games.to_pandas_on_spark()\n",
    "\n",
    "team_rosters = spark.read.csv(\"TeamRosters.csv\", inferSchema=True, header=True)\n",
    "team_rosters = team_rosters.to_pandas_on_spark()\n",
    "\n",
    "game_line_up = spark.read.csv(\"GameLineUp.csv\", inferSchema=True, header=True)\n",
    "game_line_up = game_line_up.to_pandas_on_spark()\n",
    "\n",
    "game_team_score = spark.read.csv(\"GameTeamScore.csv\", inferSchema=True, header=True)\n",
    "game_team_score = game_team_score.to_pandas_on_spark()\n",
    "\n",
    "game_player_score = spark.read.csv(\"GamePlayerScore.csv\", inferSchema=True, header=True)\n",
    "game_player_score = game_player_score.to_pandas_on_spark()\n"
   ]
  },
  {
   "cell_type": "code",
   "execution_count": null,
   "metadata": {},
   "outputs": [],
   "source": [
    "# # Use Spark to read the training csv file.\n",
    "# teams = spark.read.csv(\"./data/Teams.csv\", inferSchema=True, header=True)\n",
    "# teams = teams.to_pandas_on_spark()\n",
    "\n",
    "# players = spark.read.csv(\"./data/Players.csv\", inferSchema=True, header=True)\n",
    "# players = players.to_pandas_on_spark()\n",
    "\n",
    "# games = spark.read.csv(\"./data/Games.csv\", inferSchema=True, header=True)\n",
    "# games = games.to_pandas_on_spark()\n",
    "\n",
    "# team_rosters = spark.read.csv(\n",
    "#     \"./data/TeamRosters.csv\", inferSchema=True, header=True)\n",
    "# team_rosters = team_rosters.to_pandas_on_spark()\n",
    "\n",
    "# game_line_up = spark.read.csv(\n",
    "#     \"./data/GameLineUp.csv\", inferSchema=True, header=True)\n",
    "# game_line_up = game_line_up.to_pandas_on_spark()\n",
    "\n",
    "# game_team_score = spark.read.csv(\n",
    "#     \"./data/GameTeamScore.csv\", inferSchema=True, header=True\n",
    "# )\n",
    "# game_team_score = game_team_score.to_pandas_on_spark()\n",
    "\n",
    "# game_player_score = spark.read.csv(\n",
    "#     \"./data/GamePlayerScore.csv\", inferSchema=True, header=True\n",
    "# )\n",
    "# game_player_score = game_player_score.to_pandas_on_spark()\n"
   ]
  },
  {
   "cell_type": "markdown",
   "metadata": {},
   "source": [
    "## Display data info"
   ]
  },
  {
   "cell_type": "code",
   "execution_count": null,
   "metadata": {},
   "outputs": [],
   "source": [
    "teams_dict = {\n",
    "    row[\"ID\"]: row[\"City\"] + \" \" + row[\"TeamName\"] for index, row in teams.iterrows()\n",
    "}\n",
    "teams_names_dict = {\n",
    "    row[\"City\"] + \" \" + row[\"TeamName\"]: row[\"ID\"] for index, row in teams.iterrows()\n",
    "}\n",
    "teams.info()\n"
   ]
  },
  {
   "cell_type": "code",
   "execution_count": null,
   "metadata": {},
   "outputs": [],
   "source": [
    "teams\n"
   ]
  },
  {
   "cell_type": "code",
   "execution_count": null,
   "metadata": {},
   "outputs": [],
   "source": [
    "players_dict = {\n",
    "    row[\"ID\"]: row[\"FirstName\"] + \" \" + row[\"LastName\"]\n",
    "    for index, row in players.iterrows()\n",
    "}\n",
    "players_names_dict = {\n",
    "    row[\"FirstName\"] + \" \" + row[\"LastName\"]: row[\"ID\"]\n",
    "    for index, row in players.iterrows()\n",
    "}\n",
    "players.info()\n"
   ]
  },
  {
   "cell_type": "code",
   "execution_count": null,
   "metadata": {},
   "outputs": [],
   "source": [
    "games = games.loc[\n",
    "    (games[\"HomeTeamID\"].isin(teams_dict.keys()))\n",
    "    & (games[\"VisitorTeamID\"].isin(teams_dict.keys())),\n",
    "    :,\n",
    "]\n",
    "games.info()\n"
   ]
  },
  {
   "cell_type": "code",
   "execution_count": null,
   "metadata": {},
   "outputs": [],
   "source": [
    "team_rosters.info()\n"
   ]
  },
  {
   "cell_type": "code",
   "execution_count": null,
   "metadata": {},
   "outputs": [],
   "source": [
    "game_line_up = game_line_up.loc[game_line_up[\"GameID\"].isin(\n",
    "    games[\"ID\"].to_numpy())]\n",
    "game_line_up.info()\n"
   ]
  },
  {
   "cell_type": "code",
   "execution_count": null,
   "metadata": {},
   "outputs": [],
   "source": [
    "game_team_score = game_team_score.loc[\n",
    "    game_team_score[\"TeamID\"].isin(teams_dict.keys()), :\n",
    "]\n",
    "game_team_score.info()\n"
   ]
  },
  {
   "cell_type": "code",
   "execution_count": null,
   "metadata": {},
   "outputs": [],
   "source": [
    "game_player_score = game_player_score.loc[\n",
    "    game_player_score[\"PlayerID\"].isin(players_dict.keys()), :\n",
    "]\n",
    "game_player_score.info()\n"
   ]
  },
  {
   "cell_type": "markdown",
   "metadata": {},
   "source": [
    "## __Season level analysis__"
   ]
  },
  {
   "cell_type": "markdown",
   "metadata": {},
   "source": [
    "### Per game Per group statistics - from each game 2 values are taken into acount, one for each group"
   ]
  },
  {
   "cell_type": "markdown",
   "metadata": {},
   "source": [
    "__Histogram of number of games a group played in the current season (2022-2023) so far__"
   ]
  },
  {
   "cell_type": "code",
   "execution_count": null,
   "metadata": {},
   "outputs": [],
   "source": [
    "finished_games = games.loc[games[\"LiveStatus\"] == \"Final\", :]\n"
   ]
  },
  {
   "cell_type": "code",
   "execution_count": null,
   "metadata": {},
   "outputs": [],
   "source": [
    "home_games = finished_games[\"HomeTeamID\"].value_counts()\n",
    "visitor_games = finished_games[\"VisitorTeamID\"].value_counts()\n",
    "total_games = np.array(\n",
    "    [home_games[teamID] + visitor_games[teamID]\n",
    "        for teamID in teams_dict.keys()]\n",
    ")\n"
   ]
  },
  {
   "cell_type": "code",
   "execution_count": null,
   "metadata": {},
   "outputs": [],
   "source": [
    "fig = plt.figure(figure_count, figsize=(9, 6))\n",
    "figure_count += 1\n",
    "ax = sns.histplot(\n",
    "    total_games, alpha=0.5, bins=np.arange(min(total_games) - 1, max(total_games) + 1)\n",
    ")\n",
    "ax.set(\n",
    "    title=\"# of games a team played so far in the season\",\n",
    "    xlabel=\"# of games\",\n",
    "    ylabel=\"count[teams]\",\n",
    ")\n",
    "plt.legend([], [], frameon=False)\n",
    "plt.show(fig)\n"
   ]
  },
  {
   "cell_type": "markdown",
   "metadata": {},
   "source": [
    "__Histogram of number of players per game (for a single group) in the current season (2022-2023) so far__"
   ]
  },
  {
   "cell_type": "code",
   "execution_count": null,
   "metadata": {},
   "outputs": [],
   "source": [
    "fig = plt.figure(figure_count, figsize=(9, 6))\n",
    "figure_count += 1\n",
    "ax = sns.histplot(\n",
    "    game_line_up.groupby([\"GameID\", \"TeamID\"]).count().to_numpy(), alpha=0.5\n",
    ")\n",
    "ax.set(\n",
    "    title=\"# of players in a single game (per team)\",\n",
    "    xlabel=\"# of players\",\n",
    "    ylabel=\"count[games]\",\n",
    ")\n",
    "plt.legend([], [], frameon=False)\n",
    "plt.show(fig)\n"
   ]
  },
  {
   "cell_type": "markdown",
   "metadata": {},
   "source": [
    "### Field goals"
   ]
  },
  {
   "cell_type": "markdown",
   "metadata": {},
   "source": [
    "__Histogram of field goals made out of field goals attempted in a single game per group in the current season (2022-2023) so far__"
   ]
  },
  {
   "cell_type": "code",
   "execution_count": null,
   "metadata": {},
   "outputs": [],
   "source": [
    "fig = plt.figure(figure_count, figsize=(9, 6))\n",
    "figure_count += 1\n",
    "ax = sns.histplot(\n",
    "    game_team_score[\"FGPER\"].to_numpy(), alpha=0.5, kde=True, bins=np.arange(30, 70)\n",
    ")\n",
    "ax.set(\n",
    "    title=\"Percentage of field goals made in a single game (per team)\",\n",
    "    xlabel=\"% of field goals made\",\n",
    "    ylabel=\"count[games]\",\n",
    ")\n",
    "plt.legend([], [], frameon=False)\n",
    "plt.show(fig)\n"
   ]
  },
  {
   "cell_type": "code",
   "execution_count": null,
   "metadata": {},
   "outputs": [],
   "source": [
    "three_best_teams = (\n",
    "    game_team_score.loc[:, [\"TeamID\", \"FGPER\"]]\n",
    "    .groupby([\"TeamID\"])\n",
    "    .mean()\n",
    "    .nlargest(3, columns=\"FGPER\")\n",
    ")\n",
    "for i, (index, team) in enumerate(three_best_teams.iterrows()):\n",
    "    print(index_to_strings(\n",
    "        i, teams_dict[index], \"FG%\", f\"{team.values[0]:.2f}%\"))\n"
   ]
  },
  {
   "cell_type": "markdown",
   "metadata": {},
   "source": [
    "### Three points field goals"
   ]
  },
  {
   "cell_type": "markdown",
   "metadata": {},
   "source": [
    "__Histogram of three point field goal made out of attempted in a single game per group in the current season (2022-2023) so far__"
   ]
  },
  {
   "cell_type": "code",
   "execution_count": null,
   "metadata": {},
   "outputs": [],
   "source": [
    "fig = plt.figure(figure_count, figsize=(9, 6))\n",
    "figure_count += 1\n",
    "ax = sns.histplot(\n",
    "    game_team_score[\"ThreePPER\"].to_numpy(), alpha=0.5, kde=True, bins=np.arange(10, 70)\n",
    ")\n",
    "ax.set(\n",
    "    title=\"Percentage of three points field goals made in a single game (per team)\",\n",
    "    xlabel=\"% of three points field goals made\",\n",
    "    ylabel=\"count[games]\",\n",
    ")\n",
    "plt.legend([], [], frameon=False)\n",
    "plt.show(fig)\n"
   ]
  },
  {
   "cell_type": "code",
   "execution_count": null,
   "metadata": {},
   "outputs": [],
   "source": [
    "three_best_teams = (\n",
    "    game_team_score.loc[:, [\"TeamID\", \"ThreePPER\"]]\n",
    "    .groupby([\"TeamID\"])\n",
    "    .mean()\n",
    "    .nlargest(3, columns=\"ThreePPER\")\n",
    ")\n",
    "for i, (index, team) in enumerate(three_best_teams.iterrows()):\n",
    "    print(index_to_strings(\n",
    "        i, teams_dict[index], \"3FG%\", f\"{team.values[0]:.2f}%\"))\n"
   ]
  },
  {
   "cell_type": "code",
   "execution_count": null,
   "metadata": {},
   "outputs": [],
   "source": [
    "grouped = (\n",
    "    game_player_score.to_pandas()\n",
    "    .loc[:, [\"PlayerID\", \"ThreePA\", \"ThreePPER\"]]\n",
    "    .groupby(\"PlayerID\")\n",
    ")\n",
    "three_best_players = (\n",
    "    grouped.filter(lambda x: x[\"ThreePA\"].count() > 10)\n",
    "    .loc[:, [\"PlayerID\", \"ThreePPER\"]]\n",
    "    .groupby(\"PlayerID\")\n",
    "    .mean()\n",
    "    .nlargest(3, columns=\"ThreePPER\")\n",
    ")\n",
    "for i, (index, player) in enumerate(three_best_players.iterrows()):\n",
    "    print(\n",
    "        index_to_strings_players(\n",
    "            i, players_dict[index], \"3FG%\", f\"{player.values[0]:.2f}%\"\n",
    "        )\n",
    "    )\n"
   ]
  },
  {
   "cell_type": "markdown",
   "metadata": {},
   "source": [
    "__Histogram of three point field goal made out of field goal made in a single game per group in the current season (2022-2023) so far__"
   ]
  },
  {
   "cell_type": "code",
   "execution_count": null,
   "metadata": {},
   "outputs": [],
   "source": [
    "game_team_score[\"3FGM_to_FGM\"] = (\n",
    "    game_team_score[\"ThreePM\"] * 100 / game_team_score[\"FGM\"]\n",
    ")\n",
    "fig = plt.figure(figure_count, figsize=(9, 6))\n",
    "figure_count += 1\n",
    "ax = sns.histplot(\n",
    "    game_team_score[\"3FGM_to_FGM\"].to_numpy(),\n",
    "    alpha=0.5,\n",
    "    kde=True,\n",
    "    bins=np.arange(10, 70),\n",
    ")\n",
    "ax.set(\n",
    "    title=\"Percentage of 3FGM out og FGM in a single game (per team)\",\n",
    "    xlabel=\"% of 3FGM out of FGM\",\n",
    "    ylabel=\"count[games]\",\n",
    ")\n",
    "plt.legend([], [], frameon=False)\n",
    "plt.show(fig)\n"
   ]
  },
  {
   "cell_type": "code",
   "execution_count": null,
   "metadata": {},
   "outputs": [],
   "source": [
    "three_best_teams = (\n",
    "    game_team_score.loc[:, [\"TeamID\", \"3FGM_to_FGM\"]]\n",
    "    .groupby([\"TeamID\"])\n",
    "    .mean()\n",
    "    .nlargest(3, columns=\"3FGM_to_FGM\")\n",
    ")\n",
    "for i, (index, team) in enumerate(three_best_teams.iterrows()):\n",
    "    print(\n",
    "        index_to_strings(\n",
    "            i,\n",
    "            teams_dict[index],\n",
    "            \"precentage of 3FGM out of FGM\",\n",
    "            f\"{team.values[0]:.2f}%\",\n",
    "        )\n",
    "    )\n"
   ]
  },
  {
   "cell_type": "markdown",
   "metadata": {},
   "source": [
    "### Free throws"
   ]
  },
  {
   "cell_type": "markdown",
   "metadata": {},
   "source": [
    "__Histogram of free throws made out of free throws attempted in a single game per group in the current season (2022-2023) so far__"
   ]
  },
  {
   "cell_type": "code",
   "execution_count": null,
   "metadata": {},
   "outputs": [],
   "source": [
    "fig = plt.figure(figure_count, figsize=(9, 6))\n",
    "figure_count += 1\n",
    "ax = sns.histplot(game_team_score[\"FTPER\"].to_numpy(), alpha=0.5, kde=True)\n",
    "ax.set(\n",
    "    title=\"Percentage of free throws made in a single game (per team)\",\n",
    "    xlabel=\"% of free throws made\",\n",
    "    ylabel=\"count[games]\",\n",
    ")\n",
    "plt.legend([], [], frameon=False)\n",
    "plt.show(fig)\n"
   ]
  },
  {
   "cell_type": "code",
   "execution_count": null,
   "metadata": {},
   "outputs": [],
   "source": [
    "three_best_teams = (\n",
    "    game_team_score.loc[:, [\"TeamID\", \"FTPER\"]]\n",
    "    .groupby([\"TeamID\"])\n",
    "    .mean()\n",
    "    .nlargest(3, columns=\"FTPER\")\n",
    ")\n",
    "for i, (index, team) in enumerate(three_best_teams.iterrows()):\n",
    "    print(index_to_strings(\n",
    "        i, teams_dict[index], \"FT%\", f\"{team.values[0]:.2f}%\"))\n"
   ]
  },
  {
   "cell_type": "markdown",
   "metadata": {},
   "source": [
    "### Rebounds"
   ]
  },
  {
   "cell_type": "markdown",
   "metadata": {},
   "source": [
    "__Histogram of total rebounds in a single game per group in the current season (2022-2023) so far__"
   ]
  },
  {
   "cell_type": "code",
   "execution_count": null,
   "metadata": {},
   "outputs": [],
   "source": [
    "game_team_score[\"REB\"] = game_team_score[\"OREB\"] + game_team_score[\"DREB\"]\n",
    "fig = plt.figure(figure_count, figsize=(9, 6))\n",
    "figure_count += 1\n",
    "ax = sns.histplot(\n",
    "    game_team_score[\"REB\"].to_numpy(), alpha=0.5, kde=True, bins=np.arange(23, 70)\n",
    ")\n",
    "ax.set(\n",
    "    title=\"# of rebounds in a single game (per team)\",\n",
    "    xlabel=\"# of rebounds\",\n",
    "    ylabel=\"count[games]\",\n",
    ")\n",
    "plt.legend([], [], frameon=False)\n",
    "plt.show(fig)\n"
   ]
  },
  {
   "cell_type": "code",
   "execution_count": null,
   "metadata": {},
   "outputs": [],
   "source": [
    "three_best_teams = (\n",
    "    game_team_score.loc[:, [\"TeamID\", \"REB\"]]\n",
    "    .groupby([\"TeamID\"])\n",
    "    .mean()\n",
    "    .nlargest(3, columns=\"REB\")\n",
    ")\n",
    "for i, (index, team) in enumerate(three_best_teams.iterrows()):\n",
    "    print(\n",
    "        index_to_strings(\n",
    "            i, teams_dict[index], \"avg number of rebounds\", f\"{team.values[0]:.2f}\"\n",
    "        )\n",
    "    )\n"
   ]
  },
  {
   "cell_type": "code",
   "execution_count": null,
   "metadata": {},
   "outputs": [],
   "source": [
    "game_player_score[\"REB\"] = game_player_score[\"OREB\"] + \\\n",
    "    game_player_score[\"DREB\"]\n",
    "three_best_players = (\n",
    "    game_player_score.loc[:, [\"PlayerID\", \"REB\"]]\n",
    "    .groupby([\"PlayerID\"])\n",
    "    .mean()\n",
    "    .nlargest(3, columns=\"REB\")\n",
    ")\n",
    "for i, (index, player) in enumerate(three_best_players.iterrows()):\n",
    "    print(\n",
    "        index_to_strings_players(\n",
    "            i, players_dict[index], \"avg number of rebounds\", f\"{player.values[0]:.2f}\"\n",
    "        )\n",
    "    )\n"
   ]
  },
  {
   "cell_type": "markdown",
   "metadata": {},
   "source": [
    "__Histogram of offensive rebounds in a single game per group in the current season (2022-2023) so far__"
   ]
  },
  {
   "cell_type": "code",
   "execution_count": null,
   "metadata": {},
   "outputs": [],
   "source": [
    "fig = plt.figure(figure_count, figsize=(9, 6))\n",
    "figure_count += 1\n",
    "ax = sns.histplot(\n",
    "    game_team_score[\"OREB\"].to_numpy(), alpha=0.5, kde=True, bins=np.arange(0, 30)\n",
    ")\n",
    "ax.set(\n",
    "    title=\"# of offensive rebounds in a single game (per team)\",\n",
    "    xlabel=\"# of offensive rebounds\",\n",
    "    ylabel=\"count[games]\",\n",
    ")\n",
    "plt.legend([], [], frameon=False)\n",
    "plt.show(fig)\n"
   ]
  },
  {
   "cell_type": "code",
   "execution_count": null,
   "metadata": {},
   "outputs": [],
   "source": [
    "three_best_teams = (\n",
    "    game_team_score.loc[:, [\"TeamID\", \"OREB\"]]\n",
    "    .groupby([\"TeamID\"])\n",
    "    .mean()\n",
    "    .nlargest(3, columns=\"OREB\")\n",
    ")\n",
    "for i, (index, team) in enumerate(three_best_teams.iterrows()):\n",
    "    print(\n",
    "        index_to_strings(\n",
    "            i,\n",
    "            teams_dict[index],\n",
    "            \"avg number of offensive rebounds\",\n",
    "            f\"{team.values[0]:.2f}\",\n",
    "        )\n",
    "    )\n"
   ]
  },
  {
   "cell_type": "code",
   "execution_count": null,
   "metadata": {},
   "outputs": [],
   "source": [
    "three_best_players = (\n",
    "    game_player_score.loc[:, [\"PlayerID\", \"OREB\"]]\n",
    "    .groupby([\"PlayerID\"])\n",
    "    .mean()\n",
    "    .nlargest(3, columns=\"OREB\")\n",
    ")\n",
    "for i, (index, player) in enumerate(three_best_players.iterrows()):\n",
    "    print(\n",
    "        index_to_strings_players(\n",
    "            i,\n",
    "            players_dict[index],\n",
    "            \"avg number of offensive rebounds\",\n",
    "            f\"{player.values[0]:.2f}\",\n",
    "        )\n",
    "    )\n"
   ]
  },
  {
   "cell_type": "markdown",
   "metadata": {},
   "source": [
    "__Histogram of defensive rebounds in a single game per group in the current season (2022-2023) so far__"
   ]
  },
  {
   "cell_type": "code",
   "execution_count": null,
   "metadata": {},
   "outputs": [],
   "source": [
    "fig = plt.figure(figure_count, figsize=(9, 6))\n",
    "figure_count += 1\n",
    "ax = sns.histplot(game_team_score[\"DREB\"].to_numpy(), alpha=0.5, kde=True)\n",
    "ax.set(\n",
    "    title=\"# of defensive rebounds in a single game (per team)\",\n",
    "    xlabel=\"# of defensive rebounds\",\n",
    "    ylabel=\"count[games]\",\n",
    ")\n",
    "plt.legend([], [], frameon=False)\n",
    "plt.show(fig)\n"
   ]
  },
  {
   "cell_type": "code",
   "execution_count": null,
   "metadata": {},
   "outputs": [],
   "source": [
    "three_best_teams = (\n",
    "    game_team_score.loc[:, [\"TeamID\", \"DREB\"]]\n",
    "    .groupby([\"TeamID\"])\n",
    "    .mean()\n",
    "    .nlargest(3, columns=\"DREB\")\n",
    ")\n",
    "for i, (index, team) in enumerate(three_best_teams.iterrows()):\n",
    "    print(\n",
    "        index_to_strings(\n",
    "            i,\n",
    "            teams_dict[index],\n",
    "            \"avg number of defensive rebounds\",\n",
    "            f\"{team.values[0]:.2f}\",\n",
    "        )\n",
    "    )\n"
   ]
  },
  {
   "cell_type": "code",
   "execution_count": null,
   "metadata": {},
   "outputs": [],
   "source": [
    "three_best_players = (\n",
    "    game_player_score.loc[:, [\"PlayerID\", \"DREB\"]]\n",
    "    .groupby([\"PlayerID\"])\n",
    "    .mean()\n",
    "    .nlargest(3, columns=\"DREB\")\n",
    ")\n",
    "for i, (index, player) in enumerate(three_best_players.iterrows()):\n",
    "    print(\n",
    "        index_to_strings_players(\n",
    "            i,\n",
    "            players_dict[index],\n",
    "            \"avg number of defensive rebounds\",\n",
    "            f\"{player.values[0]:.2f}\",\n",
    "        )\n",
    "    )\n"
   ]
  },
  {
   "cell_type": "markdown",
   "metadata": {},
   "source": [
    "### Asists"
   ]
  },
  {
   "cell_type": "markdown",
   "metadata": {},
   "source": [
    "__Histogram of assits in a single game per group in the current season (2022-2023) so far__"
   ]
  },
  {
   "cell_type": "code",
   "execution_count": null,
   "metadata": {},
   "outputs": [],
   "source": [
    "fig = plt.figure(figure_count, figsize=(9, 6))\n",
    "figure_count += 1\n",
    "ax = sns.histplot(game_team_score[\"AST\"].to_numpy(), alpha=0.5, kde=True)\n",
    "ax.set(\n",
    "    title=\"# of assits in a single game (per team)\",\n",
    "    xlabel=\"# of assits\",\n",
    "    ylabel=\"count[games]\",\n",
    ")\n",
    "plt.legend([], [], frameon=False)\n",
    "plt.show(fig)\n"
   ]
  },
  {
   "cell_type": "code",
   "execution_count": null,
   "metadata": {},
   "outputs": [],
   "source": [
    "three_best_teams = (\n",
    "    game_team_score.loc[:, [\"TeamID\", \"AST\"]]\n",
    "    .groupby([\"TeamID\"])\n",
    "    .mean()\n",
    "    .nlargest(3, columns=\"AST\")\n",
    ")\n",
    "for i, (index, team) in enumerate(three_best_teams.iterrows()):\n",
    "    print(\n",
    "        index_to_strings(i, teams_dict[index],\n",
    "                         \"avg of assits\", f\"{team.values[0]:.2f}\")\n",
    "    )\n"
   ]
  },
  {
   "cell_type": "markdown",
   "metadata": {},
   "source": [
    "### Blocks"
   ]
  },
  {
   "cell_type": "markdown",
   "metadata": {},
   "source": [
    "__Histogram of blocks in a single game per group in the current season (2022-2023) so far__"
   ]
  },
  {
   "cell_type": "code",
   "execution_count": null,
   "metadata": {},
   "outputs": [],
   "source": [
    "fig = plt.figure(figure_count, figsize=(9, 6))\n",
    "figure_count += 1\n",
    "ax = sns.histplot(\n",
    "    game_team_score[\"BLK\"].to_numpy(), alpha=0.5, kde=True, bins=np.arange(0, 18)\n",
    ")\n",
    "ax.set(\n",
    "    title=\"# of blocks in a single game (per team)\",\n",
    "    xlabel=\"# of blocks\",\n",
    "    ylabel=\"count[games]\",\n",
    ")\n",
    "plt.legend([], [], frameon=False)\n",
    "plt.show(fig)\n"
   ]
  },
  {
   "cell_type": "code",
   "execution_count": null,
   "metadata": {},
   "outputs": [],
   "source": [
    "three_best_teams = (\n",
    "    game_team_score.loc[:, [\"TeamID\", \"BLK\"]]\n",
    "    .groupby([\"TeamID\"])\n",
    "    .mean()\n",
    "    .nlargest(3, columns=\"BLK\")\n",
    ")\n",
    "for i, (index, team) in enumerate(three_best_teams.iterrows()):\n",
    "    print(\n",
    "        index_to_strings(i, teams_dict[index],\n",
    "                         \"avg of blocks\", f\"{team.values[0]:.2f}\")\n",
    "    )\n"
   ]
  },
  {
   "cell_type": "markdown",
   "metadata": {},
   "source": [
    "### Steals"
   ]
  },
  {
   "cell_type": "markdown",
   "metadata": {},
   "source": [
    "__Histogram of steals in a single game per group in the current season (2022-2023) so far__"
   ]
  },
  {
   "cell_type": "code",
   "execution_count": null,
   "metadata": {},
   "outputs": [],
   "source": [
    "fig = plt.figure(figure_count, figsize=(9, 6))\n",
    "figure_count += 1\n",
    "ax = sns.histplot(\n",
    "    game_team_score[\"STL\"].to_numpy(), alpha=0.5, kde=True, bins=20)\n",
    "ax.set(\n",
    "    title=\"# of steals in a single game (per team)\",\n",
    "    xlabel=\"# of steals\",\n",
    "    ylabel=\"count[games]\",\n",
    ")\n",
    "plt.legend([], [], frameon=False)\n",
    "plt.show(fig)\n"
   ]
  },
  {
   "cell_type": "markdown",
   "metadata": {},
   "source": [
    "### Turnovers"
   ]
  },
  {
   "cell_type": "markdown",
   "metadata": {},
   "source": [
    "__Histogram of turnovers in a single game per group in the current season (2022-2023) so far__"
   ]
  },
  {
   "cell_type": "code",
   "execution_count": null,
   "metadata": {},
   "outputs": [],
   "source": [
    "fig = plt.figure(figure_count, figsize=(9, 6))\n",
    "figure_count += 1\n",
    "ax = sns.histplot(\n",
    "    game_team_score[\"TournOvers\"].to_numpy(), alpha=0.5, kde=True, bins=20\n",
    ")\n",
    "ax.set(\n",
    "    title=\"# of turnovers in a single game (per team)\",\n",
    "    xlabel=\"# of turnovers\",\n",
    "    ylabel=\"count[games]\",\n",
    ")\n",
    "plt.legend([], [], frameon=False)\n",
    "plt.show(fig)\n"
   ]
  },
  {
   "cell_type": "markdown",
   "metadata": {},
   "source": [
    "### Teams recovery"
   ]
  },
  {
   "cell_type": "code",
   "execution_count": null,
   "metadata": {},
   "outputs": [],
   "source": [
    "teams_recovery_3rd = {teamID: 0 for teamID in teams_dict.keys()}\n",
    "teams_recovery_half = {teamID: 0 for teamID in teams_dict.keys()}\n",
    "\n",
    "for i, row in finished_games.iterrows():\n",
    "    visitor_team_pts_3rd = game_team_score.loc[\n",
    "        (game_team_score[\"GameID\"] == row[\"ID\"])\n",
    "        & (game_team_score[\"TeamID\"] == row[\"VisitorTeamID\"]),\n",
    "        \"ScoreQThree\",\n",
    "    ].to_numpy()[0]\n",
    "    home_team_pts_3rd = game_team_score.loc[\n",
    "        (game_team_score[\"GameID\"] == row[\"ID\"])\n",
    "        & (game_team_score[\"TeamID\"] == row[\"HomeTeamID\"]),\n",
    "        \"ScoreQThree\",\n",
    "    ].to_numpy()[0]\n",
    "\n",
    "    visitor_team_pts_half = game_team_score.loc[\n",
    "        (game_team_score[\"GameID\"] == row[\"ID\"])\n",
    "        & (game_team_score[\"TeamID\"] == row[\"VisitorTeamID\"]),\n",
    "        \"ScoreQTwo\",\n",
    "    ].to_numpy()[0]\n",
    "    home_team_pts_half = game_team_score.loc[\n",
    "        (game_team_score[\"GameID\"] == row[\"ID\"])\n",
    "        & (game_team_score[\"TeamID\"] == row[\"HomeTeamID\"]),\n",
    "        \"ScoreQTwo\",\n",
    "    ].to_numpy()[0]\n",
    "\n",
    "    visitor_team_pts = game_team_score.loc[\n",
    "        (game_team_score[\"GameID\"] == row[\"ID\"])\n",
    "        & (game_team_score[\"TeamID\"] == row[\"VisitorTeamID\"]),\n",
    "        \"PTS\",\n",
    "    ].to_numpy()[0]\n",
    "    home_team_pts = game_team_score.loc[\n",
    "        (game_team_score[\"GameID\"] == row[\"ID\"])\n",
    "        & (game_team_score[\"TeamID\"] == row[\"HomeTeamID\"]),\n",
    "        \"PTS\",\n",
    "    ].to_numpy()[0]\n",
    "\n",
    "    if (visitor_team_pts_3rd > home_team_pts_3rd) and (\n",
    "        home_team_pts > visitor_team_pts\n",
    "    ):\n",
    "        teams_recovery_3rd[row[\"HomeTeamID\"]] += 1\n",
    "\n",
    "    if (visitor_team_pts_half > home_team_pts_half) and (\n",
    "        home_team_pts > visitor_team_pts\n",
    "    ):\n",
    "        teams_recovery_half[row[\"HomeTeamID\"]] += 1\n",
    "\n",
    "    if (home_team_pts_3rd > visitor_team_pts_3rd) and (\n",
    "        visitor_team_pts > home_team_pts\n",
    "    ):\n",
    "        teams_recovery_3rd[row[\"VisitorTeamID\"]] += 1\n",
    "\n",
    "    if (home_team_pts_half > visitor_team_pts_half) and (\n",
    "        visitor_team_pts_half > home_team_pts_half\n",
    "    ):\n",
    "        teams_recovery_half[row[\"VisitorTeamID\"]] += 1\n"
   ]
  },
  {
   "cell_type": "code",
   "execution_count": null,
   "metadata": {},
   "outputs": [],
   "source": [
    "keys = [teams_dict[key] for key in teams_recovery_3rd.keys()]\n",
    "values = teams_recovery_3rd.values()\n",
    "fig, ax = plt.subplots(num=figure_count, figsize=(24, 6))\n",
    "figure_count += 1\n",
    "plt.subplots_adjust(right=0.9, top=0.9, bottom=0.27)\n",
    "ax.bar(keys, values, alpha=0.5)\n",
    "ax.set_xticks(range(len(keys)), keys, rotation=90)\n",
    "ax.set_xlabel(\"Team\")\n",
    "ax.set_ylabel(\"Count [games]\")\n",
    "ax.set_title(\"Recovery from 3rd Quarter\")\n",
    "plt.show(fig)\n"
   ]
  },
  {
   "cell_type": "code",
   "execution_count": null,
   "metadata": {},
   "outputs": [],
   "source": [
    "keys = [teams_dict[key] for key in teams_recovery_half.keys()]\n",
    "values = teams_recovery_half.values()\n",
    "fig, ax = plt.subplots(num=figure_count, figsize=(24, 6))\n",
    "figure_count += 1\n",
    "plt.subplots_adjust(right=0.9, top=0.9, bottom=0.27)\n",
    "ax.bar(keys, values, alpha=0.5)\n",
    "ax.set_xticks(range(0, len(keys)), keys, rotation=90)\n",
    "ax.set_xlabel(\"Team\")\n",
    "ax.set_ylabel(\"Count [games]\")\n",
    "ax.set_title(\"Recovery from 2nd Quarter\")\n",
    "plt.show(fig)\n"
   ]
  },
  {
   "cell_type": "markdown",
   "metadata": {},
   "source": [
    "### Teams \"Power Ranking\""
   ]
  },
  {
   "cell_type": "code",
   "execution_count": null,
   "metadata": {},
   "outputs": [],
   "source": [
    "game_team_score_grouped = game_team_score.groupby(\n",
    "    [\"TeamID\"]).mean().reset_index()\n"
   ]
  },
  {
   "cell_type": "code",
   "execution_count": null,
   "metadata": {},
   "outputs": [],
   "source": [
    "teams_wins = {teamID: 0 for teamID in teams_dict.keys()}\n",
    "teams_losses = {teamID: 0 for teamID in teams_dict.keys()}\n",
    "\n",
    "\n",
    "for i, row in finished_games.iterrows():\n",
    "    visitor_team_pts = game_team_score.loc[\n",
    "        (game_team_score[\"GameID\"] == row[\"ID\"])\n",
    "        & (game_team_score[\"TeamID\"] == row[\"VisitorTeamID\"]),\n",
    "        \"PTS\",\n",
    "    ].to_numpy()[0]\n",
    "    home_team_pts = game_team_score.loc[\n",
    "        (game_team_score[\"GameID\"] == row[\"ID\"])\n",
    "        & (game_team_score[\"TeamID\"] == row[\"HomeTeamID\"]),\n",
    "        \"PTS\",\n",
    "    ].to_numpy()[0]\n",
    "\n",
    "    if visitor_team_pts > home_team_pts:\n",
    "        teams_wins[row[\"VisitorTeamID\"]] += 1\n",
    "        teams_losses[row[\"HomeTeamID\"]] += 1\n",
    "\n",
    "    else:\n",
    "        teams_wins[row[\"HomeTeamID\"]] += 1\n",
    "        teams_losses[row[\"VisitorTeamID\"]] += 1\n",
    "\n",
    "for key, value in teams_wins.items():\n",
    "    game_team_score_grouped.loc[\n",
    "        game_team_score_grouped[\"TeamID\"] == key, \"wins\"\n",
    "    ] = value\n"
   ]
  },
  {
   "cell_type": "code",
   "execution_count": null,
   "metadata": {},
   "outputs": [],
   "source": [
    "game_team_score_grouped[\"TeamScore\"] = (\n",
    "    0.2 * game_team_score_grouped[\"wins\"]\n",
    "    + 0.2 * game_team_score_grouped[\"PTS\"]\n",
    "    + 0.2 * game_team_score_grouped[\"AST\"]\n",
    "    + 0.1 * game_team_score_grouped[\"STL\"]\n",
    "    + 0.1 * game_team_score_grouped[\"BLK\"]\n",
    "    + 0.2 * game_team_score_grouped[\"REB\"]\n",
    ")\n"
   ]
  },
  {
   "cell_type": "code",
   "execution_count": null,
   "metadata": {},
   "outputs": [],
   "source": [
    "three_best_teams = game_team_score_grouped.nlargest(3, columns=\"TeamScore\")\n",
    "for i, (index, team) in enumerate(three_best_teams.iterrows()):\n",
    "    print(index_to_strings(i, teams_dict[team[\"TeamID\"]], \"overall score\", \"\"))\n"
   ]
  },
  {
   "cell_type": "markdown",
   "metadata": {},
   "source": [
    "### Players \"Power Ranking\""
   ]
  },
  {
   "cell_type": "code",
   "execution_count": null,
   "metadata": {},
   "outputs": [],
   "source": [
    "game_player_score_grouped = game_player_score.groupby([\"PlayerID\"]).mean()\n",
    "game_player_score_grouped[\"PlayerScore\"] = (\n",
    "    0.4 * game_player_score_grouped[\"PTS\"]\n",
    "    + 0.2 * game_player_score_grouped[\"AST\"]\n",
    "    + 0.1 * game_player_score_grouped[\"STL\"]\n",
    "    + 0.1 * game_player_score_grouped[\"BLK\"]\n",
    "    + 0.2 * game_player_score_grouped[\"REB\"]\n",
    ")\n"
   ]
  },
  {
   "cell_type": "code",
   "execution_count": null,
   "metadata": {},
   "outputs": [],
   "source": [
    "three_best_players = game_player_score_grouped.nlargest(\n",
    "    3, columns=\"PlayerScore\")\n",
    "for i, (index, player) in enumerate(three_best_players.iterrows()):\n",
    "    print(index_to_strings_players(\n",
    "        i, players_dict[index], \"overall score\", \"\"))\n"
   ]
  },
  {
   "cell_type": "markdown",
   "metadata": {},
   "source": [
    "## Team level analysis\n",
    "### seleceted team - Phoenix Suns"
   ]
  },
  {
   "cell_type": "code",
   "execution_count": null,
   "metadata": {},
   "outputs": [],
   "source": [
    "# Change selected team here\n",
    "selected_team_ID = teams_names_dict[\"Phoenix Suns\"]\n"
   ]
  },
  {
   "cell_type": "code",
   "execution_count": null,
   "metadata": {},
   "outputs": [],
   "source": [
    "selected_team_games = finished_games.loc[\n",
    "    (finished_games[\"HomeTeamID\"] == selected_team_ID)\n",
    "    | (finished_games[\"VisitorTeamID\"] == selected_team_ID),\n",
    "    :,\n",
    "]\n",
    "\n",
    "for i, row in selected_team_games.iterrows():\n",
    "    if row[\"HomeTeamID\"] == selected_team_ID:\n",
    "        home = True\n",
    "        selected_team_games.loc[selected_team_games[\"ID\"]\n",
    "                                == row[\"ID\"], \"home\"] = True\n",
    "    else:\n",
    "        home = False\n",
    "        selected_team_games.loc[selected_team_games[\"ID\"]\n",
    "                                == row[\"ID\"], \"home\"] = False\n",
    "\n",
    "    selected_team_pts = game_team_score.loc[\n",
    "        (game_team_score[\"GameID\"] == row[\"ID\"])\n",
    "        & (game_team_score[\"TeamID\"] == selected_team_ID),\n",
    "        \"PTS\",\n",
    "    ].to_numpy()[0]\n",
    "\n",
    "    # Fill the df with stats from the game\n",
    "    selected_team_games.loc[\n",
    "        selected_team_games[\"ID\"] == row[\"ID\"], \"PTS\"\n",
    "    ] = selected_team_pts\n",
    "    selected_team_games.loc[\n",
    "        selected_team_games[\"ID\"] == row[\"ID\"], \"FGPER\"\n",
    "    ] = game_team_score.loc[\n",
    "        (game_team_score[\"GameID\"] == row[\"ID\"])\n",
    "        & (game_team_score[\"TeamID\"] == selected_team_ID),\n",
    "        \"FGPER\",\n",
    "    ].to_numpy()[\n",
    "        0\n",
    "    ]\n",
    "    selected_team_games.loc[\n",
    "        selected_team_games[\"ID\"] == row[\"ID\"], \"ThreePPER\"\n",
    "    ] = game_team_score.loc[\n",
    "        (game_team_score[\"GameID\"] == row[\"ID\"])\n",
    "        & (game_team_score[\"TeamID\"] == selected_team_ID),\n",
    "        \"ThreePPER\",\n",
    "    ].to_numpy()[\n",
    "        0\n",
    "    ]\n",
    "    selected_team_games.loc[\n",
    "        selected_team_games[\"ID\"] == row[\"ID\"], \"3FGM_to_FGM\"\n",
    "    ] = game_team_score.loc[\n",
    "        (game_team_score[\"GameID\"] == row[\"ID\"])\n",
    "        & (game_team_score[\"TeamID\"] == selected_team_ID),\n",
    "        \"3FGM_to_FGM\",\n",
    "    ].to_numpy()[\n",
    "        0\n",
    "    ]\n",
    "\n",
    "    if home:\n",
    "        other_team_pts = game_team_score.loc[\n",
    "            (game_team_score[\"GameID\"] == row[\"ID\"])\n",
    "            & (game_team_score[\"TeamID\"] == row[\"VisitorTeamID\"]),\n",
    "            \"PTS\",\n",
    "        ].to_numpy()[0]\n",
    "    else:\n",
    "        other_team_pts = game_team_score.loc[\n",
    "            (game_team_score[\"GameID\"] == row[\"ID\"])\n",
    "            & (game_team_score[\"TeamID\"] == row[\"HomeTeamID\"]),\n",
    "            \"PTS\",\n",
    "        ].to_numpy()[0]\n",
    "\n",
    "    if other_team_pts > selected_team_pts:\n",
    "        selected_team_games.loc[selected_team_games[\"ID\"]\n",
    "                                == row[\"ID\"], \"result\"] = \"L\"\n",
    "    else:\n",
    "        selected_team_games.loc[selected_team_games[\"ID\"]\n",
    "                                == row[\"ID\"], \"result\"] = \"W\"\n"
   ]
  },
  {
   "cell_type": "code",
   "execution_count": null,
   "metadata": {},
   "outputs": [],
   "source": [
    "fig = plt.figure(figure_count, figsize=(9, 6))\n",
    "figure_count += 1\n",
    "ax = sns.histplot(\n",
    "    selected_team_games[\"result\"].to_numpy(), alpha=0.5, bins=[-0.5, 0.5, 1.5]\n",
    ")\n",
    "ax.set(title=\"Game results this season\",\n",
    "       xlabel=\"result\", ylabel=\"count[games]\")\n",
    "plt.legend([], [], frameon=False)\n",
    "plt.show(fig)\n"
   ]
  },
  {
   "cell_type": "code",
   "execution_count": null,
   "metadata": {},
   "outputs": [],
   "source": [
    "fig = plt.figure(figure_count, figsize=(9, 6))\n",
    "figure_count += 1\n",
    "ax = sns.histplot(\n",
    "    selected_team_games.loc[selected_team_games[\"home\"]\n",
    "                            == True, \"result\"].to_numpy(),\n",
    "    alpha=0.5,\n",
    "    bins=[-0.5, 0.5, 1.5],\n",
    ")\n",
    "ax.set(title=\"Game at home results this season\",\n",
    "       xlabel=\"win\", ylabel=\"count[games]\")\n",
    "plt.legend([], [], frameon=False)\n",
    "plt.show(fig)\n"
   ]
  },
  {
   "cell_type": "code",
   "execution_count": null,
   "metadata": {},
   "outputs": [],
   "source": [
    "selected_team_games_copy = selected_team_games.to_pandas().set_index(\"Date\")\n",
    "\n",
    "line_plot = selected_team_games_copy.home\n",
    "\n",
    "line_plot2 = selected_team_games_copy.result\n",
    "\n",
    "bar_plot = (\n",
    "    line_plot.groupby(\n",
    "        [line_plot.index.year, line_plot.index.month, line_plot2])\n",
    "    .count()\n",
    "    .unstack()\n",
    ")\n",
    "\n",
    "fig, ax = plt.subplots(num=figure_count)\n",
    "figure_count += 1\n",
    "plt.subplots_adjust(left=0.1, right=0.9, top=0.9, bottom=0.17)\n",
    "bar_plot.plot(ax=ax, kind=\"bar\", figsize=(\n",
    "    9, 6), colormap=\"coolwarm\", alpha=0.5)\n",
    "ax.set_xlabel(\"Date of game [year, month]\")\n",
    "ax.set_ylabel(\"Count [games]\")\n",
    "ax.set_title(\"All games Win/Lose segmentation per month\")\n",
    "plt.show(fig)\n"
   ]
  },
  {
   "cell_type": "code",
   "execution_count": null,
   "metadata": {},
   "outputs": [],
   "source": [
    "home_games = selected_team_games[\"home\"] == True\n",
    "selected_team_games_at_home_copy = (\n",
    "    selected_team_games.loc[home_games, :].to_pandas().set_index(\"Date\")\n",
    ")\n",
    "\n",
    "line_plot = selected_team_games_at_home_copy.home\n",
    "\n",
    "line_plot2 = selected_team_games_at_home_copy.result\n",
    "\n",
    "bar_plot = (\n",
    "    line_plot.groupby(\n",
    "        [line_plot.index.year, line_plot.index.month, line_plot2])\n",
    "    .count()\n",
    "    .unstack()\n",
    ")\n",
    "\n",
    "fig, ax = plt.subplots(num=figure_count)\n",
    "figure_count += 1\n",
    "plt.subplots_adjust(left=0.1, right=0.9, top=0.9, bottom=0.17)\n",
    "bar_plot.plot(ax=ax, kind=\"bar\", figsize=(\n",
    "    9, 6), colormap=\"coolwarm\", alpha=0.5)\n",
    "ax.set_xlabel(\"Date of game [year, month]\")\n",
    "ax.set_ylabel(\"Count [games]\")\n",
    "ax.set_title(\"Home games Win/Lose segmentation per month\")\n",
    "plt.show(fig)\n"
   ]
  },
  {
   "cell_type": "code",
   "execution_count": null,
   "metadata": {},
   "outputs": [],
   "source": [
    "line_plot = selected_team_games_copy.home\n",
    "\n",
    "bar_plot = (\n",
    "    selected_team_games_copy[\"3FGM_to_FGM\"]\n",
    "    .groupby([line_plot.index.year, line_plot.index.month])\n",
    "    .mean()\n",
    ")\n",
    "\n",
    "fig, ax = plt.subplots(num=figure_count)\n",
    "figure_count += 1\n",
    "plt.subplots_adjust(left=0.1, right=0.9, top=0.9, bottom=0.17)\n",
    "bar_plot.plot(ax=ax, kind=\"bar\", figsize=(\n",
    "    9, 6), colormap=\"coolwarm\", alpha=0.5)\n",
    "ax.set_xlabel(\"Date of game [year, month]\")\n",
    "ax.set_ylabel(\"Count [games]\")\n",
    "ax.set_title(\"3FGM out of FGM per month\")\n",
    "plt.show(fig)\n"
   ]
  },
  {
   "cell_type": "code",
   "execution_count": null,
   "metadata": {},
   "outputs": [],
   "source": [
    "bar_plot = (\n",
    "    selected_team_games_copy[\"ThreePPER\"]\n",
    "    .groupby([line_plot.index.year, line_plot.index.month])\n",
    "    .mean()\n",
    ")\n",
    "\n",
    "fig, ax = plt.subplots(num=figure_count)\n",
    "figure_count += 1\n",
    "plt.subplots_adjust(left=0.1, right=0.9, top=0.9, bottom=0.17)\n",
    "bar_plot.plot(ax=ax, kind=\"bar\", figsize=(\n",
    "    9, 6), colormap=\"coolwarm\", alpha=0.5)\n",
    "ax.set_xlabel(\"Date of game [year, month]\")\n",
    "ax.set_ylabel(\"Count [games]\")\n",
    "ax.set_title(\"3FG% per month\")\n",
    "plt.show(fig)\n"
   ]
  },
  {
   "cell_type": "code",
   "execution_count": null,
   "metadata": {},
   "outputs": [],
   "source": [
    "grouped = pd.DataFrame(\n",
    "    game_line_up.loc[game_line_up[\"TeamID\"] ==\n",
    "                     selected_team_ID, [\"GameID\", \"PlayerID\"]]\n",
    "    .to_pandas()\n",
    "    .groupby(\"GameID\")[\"PlayerID\"]\n",
    "    .apply(list)\n",
    ")\n",
    "for gameID in grouped.index:\n",
    "    grouped.loc[gameID, \"result\"] = selected_team_games.loc[\n",
    "        selected_team_games[\"ID\"] == gameID, \"result\"\n",
    "    ].to_numpy()[0]\n"
   ]
  },
  {
   "cell_type": "code",
   "execution_count": null,
   "metadata": {},
   "outputs": [],
   "source": [
    "grouped[\"PlayerID\"] = grouped.PlayerID.apply(tuple)\n",
    "bar_plot = (\n",
    "    grouped.reset_index().groupby([\"PlayerID\", \"result\"])[\n",
    "        \"GameID\"].count().unstack()\n",
    ")\n",
    "\n",
    "fig, ax = plt.subplots(num=figure_count)\n",
    "figure_count += 1\n",
    "plt.subplots_adjust(left=0.1, right=0.9, top=0.9, bottom=0.17)\n",
    "bar_plot.plot(ax=ax, kind=\"bar\", figsize=(\n",
    "    9, 6), colormap=\"coolwarm\", alpha=0.5)\n",
    "ax.set_xlabel(\"Players group\")\n",
    "ax.set_ylabel(\"Count [games]\")\n",
    "ax.set_title(\n",
    "    \"Win/Lose segmentation according to players praticipating in the game\")\n",
    "ax.set_xticklabels([f\"Group {i}\" for i in range(len(ax.get_xticks()))])\n",
    "plt.show(fig)\n"
   ]
  },
  {
   "cell_type": "code",
   "execution_count": null,
   "metadata": {},
   "outputs": [],
   "source": [
    "for i, group_players in enumerate(bar_plot.index):\n",
    "    print(f\"Players in group {i}:\")\n",
    "    print([players_dict.get(player) for player in group_players])\n"
   ]
  },
  {
   "cell_type": "code",
   "execution_count": null,
   "metadata": {},
   "outputs": [],
   "source": [
    "selected_team_players = team_rosters.loc[\n",
    "    team_rosters[\"TeamID\"] == selected_team_ID, \"PlayerID\"\n",
    "].to_numpy()\n",
    "selected_team_game_player_score = game_player_score.loc[\n",
    "    game_player_score[\"PlayerID\"].isin(selected_team_players), :\n",
    "]\n"
   ]
  },
  {
   "cell_type": "code",
   "execution_count": null,
   "metadata": {},
   "outputs": [],
   "source": [
    "selected_team_game_player_score_grouped = (\n",
    "    selected_team_game_player_score.groupby(\"PlayerID\")\n",
    "    .mean()\n",
    "    .sort_values(\"PlayTimeInSec\")\n",
    ")\n",
    "\n",
    "keys = [\n",
    "    players_dict[player]\n",
    "    for player in selected_team_game_player_score_grouped.index.to_numpy()\n",
    "]\n",
    "values = selected_team_game_player_score_grouped[\"PlayTimeInSec\"].to_numpy(\n",
    ") / 60\n",
    "\n",
    "fig, ax = plt.subplots(num=figure_count, figsize=(24, 6))\n",
    "figure_count += 1\n",
    "plt.subplots_adjust(left=0.1, right=0.9, top=0.9, bottom=0.25)\n",
    "ax.bar(\n",
    "    keys,\n",
    "    values,\n",
    "    alpha=0.5,\n",
    ")\n",
    "ax.set_xticks(range(0, len(keys)), keys, rotation=90)\n",
    "ax.set_xlabel(\"Player\")\n",
    "ax.set_ylabel(\"AVG playing time [min]\")\n",
    "ax.set_title(\"AVG playing time [min] of players in the team\")\n",
    "plt.show(fig)\n"
   ]
  },
  {
   "cell_type": "code",
   "execution_count": null,
   "metadata": {},
   "outputs": [],
   "source": [
    "selected_team_game_player_score_grouped = (\n",
    "    selected_team_game_player_score.loc[game_player_score[\"PlayTimeInSec\"] > 240, :]\n",
    "    .groupby(\"PlayerID\")\n",
    "    .mean()\n",
    "    .sort_values(\"PlusMinusRank\")\n",
    ")\n",
    "\n",
    "keys = [\n",
    "    players_dict[player]\n",
    "    for player in selected_team_game_player_score_grouped.index.to_numpy()\n",
    "]\n",
    "values = selected_team_game_player_score_grouped[\"PlusMinusRank\"].to_numpy()\n",
    "\n",
    "fig, ax = plt.subplots(num=figure_count, figsize=(24, 6))\n",
    "figure_count += 1\n",
    "plt.subplots_adjust(left=0.1, right=0.9, top=0.9, bottom=0.25)\n",
    "ax.bar(keys, values, alpha=0.5)\n",
    "ax.set_xticks(range(0, len(keys)), keys, rotation=90)\n",
    "ax.set_xlabel(\"Player\")\n",
    "ax.set_ylabel(\"AVG Plus Minus rank\")\n",
    "ax.set_title(\"AVG Plus-Minus rank of players in the team\")\n",
    "plt.show(fig)\n"
   ]
  },
  {
   "cell_type": "code",
   "execution_count": null,
   "metadata": {},
   "outputs": [],
   "source": [
    "fig, ax = plt.subplots(num=figure_count, figsize=(24, 10))\n",
    "figure_count += 1\n",
    "\n",
    "rows_count = 0\n",
    "for player_id in selected_team_players:\n",
    "    player_games = selected_team_game_player_score.loc[\n",
    "        selected_team_game_player_score[\"PlayerID\"] == int(player_id),\n",
    "        [\"PlayerID\", \"GameID\", \"PlayTimeInSec\"],\n",
    "    ]\n",
    "    player_games[\"PlayTimeInSec\"] = player_games[\"PlayTimeInSec\"] / 60\n",
    "    player_games = ps.merge(\n",
    "        player_games, selected_team_games, left_on=[\"GameID\"], right_on=[\"ID\"]\n",
    "    )\n",
    "\n",
    "    scatter = plt.scatter(\n",
    "        x=player_games[\"PlayTimeInSec\"].to_numpy(),\n",
    "        y=np.ones(player_games.shape[0]) * rows_count,\n",
    "        c=[\"green\" if x == \"W\" else \"red\" for x in player_games[\"result\"].to_numpy()],\n",
    "    )\n",
    "\n",
    "    rows_count += 4\n",
    "\n",
    "ax.set_yticks(\n",
    "    range(0, 4 * len(selected_team_players), 4),\n",
    "    [players_dict[player] for player in selected_team_players],\n",
    ")\n",
    "ax.set_xlabel(\"Minutes\")\n",
    "ax.set_ylabel(\"Player\")\n",
    "ax.set_title(\"Playing time - W/L graph\")\n",
    "\n",
    "red = mlines.Line2D(\n",
    "    [],\n",
    "    [],\n",
    "    color=\"red\",\n",
    "    marker=\"o\",\n",
    "    markersize=7,\n",
    "    label=\"Lose\",\n",
    "    linewidth=0,\n",
    ")\n",
    "green = mlines.Line2D(\n",
    "    [],\n",
    "    [],\n",
    "    color=\"green\",\n",
    "    marker=\"o\",\n",
    "    markersize=7,\n",
    "    label=\"Win\",\n",
    "    linewidth=0,\n",
    ")\n",
    "ax.legend(handles=[red, green])\n",
    "plt.show(fig)\n"
   ]
  },
  {
   "cell_type": "code",
   "execution_count": null,
   "metadata": {},
   "outputs": [],
   "source": [
    "fig, ax = plt.subplots(num=figure_count, figsize=(24, 10))\n",
    "figure_count += 1\n",
    "\n",
    "rows_count = 0\n",
    "for player_id in selected_team_players:\n",
    "    player_games = selected_team_game_player_score.loc[\n",
    "        selected_team_game_player_score[\"PlayerID\"] == int(player_id),\n",
    "        [\"PlayerID\", \"GameID\", \"PlusMinusRank\"],\n",
    "    ]\n",
    "    player_games = ps.merge(\n",
    "        player_games, selected_team_games, left_on=[\"GameID\"], right_on=[\"ID\"]\n",
    "    )\n",
    "\n",
    "    scatter = plt.scatter(\n",
    "        x=player_games[\"PlusMinusRank\"].to_numpy(),\n",
    "        y=np.ones(player_games.shape[0]) * rows_count,\n",
    "        c=[\"green\" if x == \"W\" else \"red\" for x in player_games[\"result\"].to_numpy()],\n",
    "    )\n",
    "\n",
    "    rows_count += 4\n",
    "\n",
    "ax.set_yticks(\n",
    "    range(0, 4 * len(selected_team_players), 4),\n",
    "    [players_dict[player] for player in selected_team_players],\n",
    ")\n",
    "ax.set_xlabel(\"Plus Minus Rank\")\n",
    "ax.set_ylabel(\"Player\")\n",
    "ax.set_title(\"Plus Minus rank- W/L graph\")\n",
    "\n",
    "red = mlines.Line2D(\n",
    "    [],\n",
    "    [],\n",
    "    color=\"red\",\n",
    "    marker=\"o\",\n",
    "    markersize=7,\n",
    "    label=\"Lose\",\n",
    "    linewidth=0,\n",
    ")\n",
    "green = mlines.Line2D(\n",
    "    [],\n",
    "    [],\n",
    "    color=\"green\",\n",
    "    marker=\"o\",\n",
    "    markersize=7,\n",
    "    label=\"Win\",\n",
    "    linewidth=0,\n",
    ")\n",
    "ax.legend(handles=[red, green])\n",
    "plt.show(fig)\n"
   ]
  },
  {
   "cell_type": "markdown",
   "metadata": {},
   "source": [
    "## Player level analysis\n",
    "### seleceted player - Deni Avdija"
   ]
  },
  {
   "cell_type": "code",
   "execution_count": null,
   "metadata": {},
   "outputs": [],
   "source": [
    "# Change selected player here\n",
    "selected_player_id = players_names_dict[\"Deni Avdija\"]\n"
   ]
  },
  {
   "cell_type": "code",
   "execution_count": null,
   "metadata": {},
   "outputs": [],
   "source": [
    "selected_player_games = game_player_score.loc[\n",
    "    game_player_score[\"PlayerID\"] == selected_player_id, :\n",
    "]\n",
    "selected_player_games[\"PlayTimeInMin\"] = selected_player_games[\"PlayTimeInSec\"] / 60\n",
    "selected_player_games = ps.merge(\n",
    "    selected_player_games, games, left_on=[\"GameID\"], right_on=[\"ID\"]\n",
    ")\n"
   ]
  },
  {
   "cell_type": "code",
   "execution_count": null,
   "metadata": {},
   "outputs": [],
   "source": [
    "selected_player_games_pd = selected_player_games.to_pandas().set_index(\"Date\")\n",
    "line_plot = selected_player_games_pd.AST\n",
    "\n",
    "bar_plot = (\n",
    "    selected_player_games_pd[\"PlayTimeInMin\"]\n",
    "    .groupby([line_plot.index.year, line_plot.index.month])\n",
    "    .mean()\n",
    ")\n",
    "\n",
    "fig, ax = plt.subplots(num=figure_count)\n",
    "figure_count += 1\n",
    "plt.subplots_adjust(left=0.1, right=0.9, top=0.9, bottom=0.17)\n",
    "bar_plot.plot(ax=ax, kind=\"bar\", figsize=(\n",
    "    9, 6), colormap=\"coolwarm\", alpha=0.5)\n",
    "ax.set_xlabel(\"Date of games [year, month]\")\n",
    "ax.set_ylabel(\"AVG minutes\")\n",
    "ax.set_title(\"AVG Minutes of playing\")\n",
    "plt.show(fig)\n"
   ]
  },
  {
   "cell_type": "code",
   "execution_count": null,
   "metadata": {},
   "outputs": [],
   "source": [
    "bar_plot = (\n",
    "    selected_player_games_pd[\"PlusMinusRank\"]\n",
    "    .groupby([line_plot.index.year, line_plot.index.month])\n",
    "    .mean()\n",
    ")\n",
    "\n",
    "fig, ax = plt.subplots(num=figure_count)\n",
    "figure_count += 1\n",
    "plt.subplots_adjust(left=0.1, right=0.9, top=0.9, bottom=0.17)\n",
    "bar_plot.plot(ax=ax, kind=\"bar\", figsize=(\n",
    "    9, 6), colormap=\"coolwarm\", alpha=0.5)\n",
    "ax.set_xlabel(\"Date of game [year, month]\")\n",
    "ax.set_ylabel(\"AVG Plus-Minus rank\")\n",
    "ax.set_title(\"AVG Plus-Minus Rank\")\n",
    "plt.show(fig)\n"
   ]
  },
  {
   "cell_type": "code",
   "execution_count": null,
   "metadata": {},
   "outputs": [],
   "source": [
    "fig, ax = plt.subplots(num=figure_count)\n",
    "figure_count += 1\n",
    "plt.subplots_adjust(left=0.1, right=0.9, top=0.9, bottom=0.17)\n",
    "plt.scatter(\n",
    "    x=selected_player_games_pd[\"PlayTimeInMin\"],\n",
    "    y=selected_player_games_pd[\"PlusMinusRank\"],\n",
    "    alpha=0.5,\n",
    ")\n",
    "ax.set_xlabel(\"Min of palying\")\n",
    "ax.set_ylabel(\"Plus-Minus rank\")\n",
    "ax.set_title(\"Player efficiency\")\n",
    "plt.show(fig)"
   ]
  },
  {
   "cell_type": "code",
   "execution_count": null,
   "metadata": {},
   "outputs": [],
   "source": [
    "bar_plot = (\n",
    "    selected_player_games_pd.loc[:, [\"FGA\", \"FGM\"]]\n",
    "    .groupby([line_plot.index.year, line_plot.index.month])\n",
    "    .mean()\n",
    ")\n",
    "\n",
    "fig, ax = plt.subplots(num=figure_count)\n",
    "figure_count += 1\n",
    "plt.subplots_adjust(left=0.1, right=0.9, top=0.9, bottom=0.17)\n",
    "bar_plot.plot(\n",
    "    ax=ax,\n",
    "    kind=\"bar\",\n",
    "    figsize=(9, 6),\n",
    "    colormap=\"coolwarm\",\n",
    "    alpha=0.5,\n",
    "    legend=[\"3FGA\", \"3FGM\"],\n",
    ")\n",
    "ax.set_xlabel(\"Date of game [year, month]\")\n",
    "ax.set_ylabel(\"FGA, FGM\")\n",
    "ax.set_title(\"AVG FGA, FGM\")\n",
    "plt.show(fig)"
   ]
  },
  {
   "cell_type": "code",
   "execution_count": null,
   "metadata": {},
   "outputs": [],
   "source": [
    "fig = plt.figure(figure_count, figsize=(9, 6))\n",
    "figure_count += 1\n",
    "ax = sns.histplot(\n",
    "    selected_player_games_pd[\"FGPER\"].to_numpy(), alpha=0.5, kde=True, bins=20\n",
    ")\n",
    "ax.set(title=\"FG% per game histogram\", xlabel=\"FG% in a game\", ylabel=\"count[games]\")\n",
    "plt.legend([], [], frameon=False)\n",
    "plt.show(fig)"
   ]
  },
  {
   "cell_type": "code",
   "execution_count": null,
   "metadata": {},
   "outputs": [],
   "source": [
    "bar_plot = (\n",
    "    selected_player_games_pd.loc[:, [\"ThreePA\", \"ThreePM\"]]\n",
    "    .groupby([line_plot.index.year, line_plot.index.month])\n",
    "    .mean()\n",
    ")\n",
    "\n",
    "fig, ax = plt.subplots(num=figure_count)\n",
    "figure_count += 1\n",
    "plt.subplots_adjust(left=0.1, right=0.9, top=0.9, bottom=0.17)\n",
    "bar_plot.plot(\n",
    "    ax=ax,\n",
    "    kind=\"bar\",\n",
    "    figsize=(9, 6),\n",
    "    colormap=\"coolwarm\",\n",
    "    alpha=0.5,\n",
    "    legend=[\"3FGA\", \"3FGM\"],\n",
    ")\n",
    "ax.set_xlabel(\"Date of game [year, month]\")\n",
    "ax.set_ylabel(\"3FGA, 3FGM\")\n",
    "ax.set_title(\"AVG 3FGA, 3FGM\")\n",
    "ax.legend([\"3FGA\", \"3FGM\"])\n",
    "plt.show(fig)"
   ]
  },
  {
   "cell_type": "code",
   "execution_count": null,
   "metadata": {},
   "outputs": [],
   "source": [
    "fig = plt.figure(figure_count, figsize=(9, 6))\n",
    "figure_count += 1\n",
    "ax = sns.histplot(\n",
    "    selected_player_games_pd[\"ThreePPER\"].to_numpy(), alpha=0.5, kde=True, bins=20\n",
    ")\n",
    "ax.set(title=\"3FG% per game histogram\", xlabel=\"3FG% in a game\", ylabel=\"count[games]\")\n",
    "plt.legend([], [], frameon=False)\n",
    "plt.show(fig)"
   ]
  },
  {
   "cell_type": "code",
   "execution_count": null,
   "metadata": {},
   "outputs": [],
   "source": [
    "fig = plt.figure(figure_count, figsize=(9, 6))\n",
    "figure_count += 1\n",
    "ax = sns.histplot(\n",
    "    selected_player_games_pd[\"REB\"].to_numpy(), alpha=0.5, kde=True, bins=20\n",
    ")\n",
    "ax.set(\n",
    "    title=\"Rebounds per game histogram\",\n",
    "    xlabel=\"rebounds in a game\",\n",
    "    ylabel=\"count[games]\",\n",
    ")\n",
    "plt.legend([], [], frameon=False)\n",
    "plt.show(fig)"
   ]
  },
  {
   "cell_type": "markdown",
   "metadata": {},
   "source": [
    "## Predict game results\n",
    "### Dataset creation"
   ]
  },
  {
   "cell_type": "code",
   "execution_count": null,
   "metadata": {},
   "outputs": [],
   "source": [
    "prediction_dataset = games.loc[:, [\"ID\", \"Date\", \"HomeTeamID\", \"VisitorTeamID\"]].copy()\n",
    "prediction_dataset = (\n",
    "    ps.merge(\n",
    "        prediction_dataset,\n",
    "        game_team_score[[\"GameID\", \"TeamID\", \"PTS\"]],\n",
    "        left_on=[\"ID\", \"HomeTeamID\"],\n",
    "        right_on=[\"GameID\", \"TeamID\"],\n",
    "    )\n",
    "    .drop(columns=[\"GameID\", \"TeamID\"])\n",
    "    .rename(columns={\"PTS\": \"HomeTeamPTS\"})\n",
    ")\n",
    "prediction_dataset = (\n",
    "    ps.merge(\n",
    "        prediction_dataset,\n",
    "        game_team_score[[\"GameID\", \"TeamID\", \"PTS\"]],\n",
    "        left_on=[\"ID\", \"VisitorTeamID\"],\n",
    "        right_on=[\"GameID\", \"TeamID\"],\n",
    "    )\n",
    "    .drop(columns=[\"GameID\", \"TeamID\"])\n",
    "    .rename(columns={\"PTS\": \"VisitorTeamPTS\"})\n",
    ")\n",
    "prediction_dataset[\"HomeTeamWin\"] = (\n",
    "    prediction_dataset[\"HomeTeamPTS\"] > prediction_dataset[\"VisitorTeamPTS\"]\n",
    ")\n",
    "prediction_dataset[\"HomeTeamWin\"] = prediction_dataset[\"HomeTeamWin\"].astype(int)\n",
    "prediction_dataset[\"VisitorTeamWin\"] = (\n",
    "    prediction_dataset[\"VisitorTeamPTS\"] > prediction_dataset[\"HomeTeamPTS\"]\n",
    ")\n",
    "prediction_dataset[\"VisitorTeamWin\"] = prediction_dataset[\"VisitorTeamWin\"].astype(int)"
   ]
  },
  {
   "cell_type": "code",
   "execution_count": null,
   "metadata": {},
   "outputs": [],
   "source": [
    "home_team_matches_wins = []\n",
    "visitor_team_matches_wins = []\n",
    "home_team_wins_so_far_list = []\n",
    "visitor_team_wins_so_far_list = []\n",
    "home_team_wins_10_last_games = []\n",
    "visitor_team_wins_10_last_games = []\n",
    "\n",
    "\n",
    "for i, game in prediction_dataset.iterrows():\n",
    "    # Home team stats\n",
    "    home_team_games_so_far_df = prediction_dataset.loc[\n",
    "        (prediction_dataset[\"VisitorTeamID\"] == game[\"HomeTeamID\"])\n",
    "        | (prediction_dataset[\"HomeTeamID\"] == game[\"HomeTeamID\"]),\n",
    "        :,\n",
    "    ]\n",
    "    home_team_games_so_far_df = home_team_games_so_far_df.loc[\n",
    "        home_team_games_so_far_df[\"Date\"] < game[\"Date\"], :\n",
    "    ]\n",
    "\n",
    "    home_games_so_far_df = home_team_games_so_far_df.loc[\n",
    "        home_team_games_so_far_df[\"HomeTeamID\"] == game[\"HomeTeamID\"], :\n",
    "    ]\n",
    "    away_games_so_far_df = home_team_games_so_far_df.loc[\n",
    "        home_team_games_so_far_df[\"VisitorTeamID\"] == game[\"HomeTeamID\"], :\n",
    "    ]\n",
    "\n",
    "    # Wins\n",
    "    wins_home_so_far_df = home_games_so_far_df.loc[\n",
    "        home_games_so_far_df[\"HomeTeamWin\"] == 1, :\n",
    "    ]\n",
    "    wins_home_so_far = wins_home_so_far_df.shape[0]\n",
    "\n",
    "    total_games_so_far = home_games_so_far_df.shape[0]\n",
    "\n",
    "    if total_games_so_far != 0:\n",
    "        home_team_wins_so_far_list.append(wins_home_so_far / total_games_so_far)\n",
    "\n",
    "        if total_games_so_far > 10:\n",
    "            total_games_so_far_df = home_games_so_far_df.sort_values(\"Date\").iloc[\n",
    "                :10, :\n",
    "            ]\n",
    "\n",
    "            wins_home_so_far_df = wins_home_so_far_df.loc[\n",
    "                wins_home_so_far_df[\"ID\"].isin(total_games_so_far_df[\"ID\"].to_numpy()),\n",
    "                :,\n",
    "            ]\n",
    "            wins_home_so_far = wins_home_so_far_df.shape[0]\n",
    "\n",
    "            total_games_so_far = 10\n",
    "\n",
    "        home_team_wins_10_last_games.append(wins_home_so_far / total_games_so_far)\n",
    "\n",
    "    else:\n",
    "        home_team_wins_so_far_list.append(None)\n",
    "        home_team_wins_10_last_games.append(None)\n",
    "\n",
    "    # Matches\n",
    "    matches_home_so_far = home_games_so_far_df.loc[\n",
    "        home_games_so_far_df[\"VisitorTeamID\"] == game[\"VisitorTeamID\"], :\n",
    "    ]\n",
    "    matches_home_so_far_wins = matches_home_so_far.loc[\n",
    "        matches_home_so_far[\"HomeTeamWin\"] == 1, :\n",
    "    ].shape[0]\n",
    "\n",
    "    matches_away_so_far = away_games_so_far_df.loc[\n",
    "        away_games_so_far_df[\"HomeTeamID\"] == game[\"VisitorTeamID\"], :\n",
    "    ]\n",
    "    matches_away_so_far_wins = matches_away_so_far.loc[\n",
    "        matches_away_so_far[\"VisitorTeamWin\"] == 1, :\n",
    "    ].shape[0]\n",
    "\n",
    "    total_matches_so_far = matches_home_so_far.shape[0] + matches_away_so_far.shape[0]\n",
    "\n",
    "    if total_matches_so_far > 0:\n",
    "        home_team_matches_wins.append(\n",
    "            (matches_home_so_far_wins + matches_away_so_far_wins) / total_matches_so_far\n",
    "        )\n",
    "    else:\n",
    "        home_team_matches_wins.append(None)\n",
    "\n",
    "    # Visitor team stats\n",
    "    visitor_team_games_so_far_df = prediction_dataset.loc[\n",
    "        (prediction_dataset[\"VisitorTeamID\"] == game[\"VisitorTeamID\"])\n",
    "        | (prediction_dataset[\"HomeTeamID\"] == game[\"VisitorTeamID\"]),\n",
    "        :,\n",
    "    ]\n",
    "    visitor_team_games_so_far_df = visitor_team_games_so_far_df.loc[\n",
    "        visitor_team_games_so_far_df[\"Date\"] < game[\"Date\"], :\n",
    "    ]\n",
    "\n",
    "    home_games_so_far_df = visitor_team_games_so_far_df.loc[\n",
    "        visitor_team_games_so_far_df[\"HomeTeamID\"] == game[\"VisitorTeamID\"], :\n",
    "    ]\n",
    "    away_games_so_far_df = visitor_team_games_so_far_df.loc[\n",
    "        visitor_team_games_so_far_df[\"VisitorTeamID\"] == game[\"VisitorTeamID\"], :\n",
    "    ]\n",
    "\n",
    "    # Wins\n",
    "    wins_away_so_far_df = away_games_so_far_df.loc[\n",
    "        away_games_so_far_df[\"VisitorTeamWin\"] == 1, :\n",
    "    ]\n",
    "    wins_away_so_far = wins_away_so_far_df.shape[0]\n",
    "\n",
    "    total_games_so_far = away_games_so_far_df.shape[0]\n",
    "\n",
    "    if total_games_so_far != 0:\n",
    "        visitor_team_wins_so_far_list.append(wins_away_so_far / total_games_so_far)\n",
    "\n",
    "        if total_games_so_far > 10:\n",
    "            total_games_so_far_df = away_games_so_far_df.sort_values(\"Date\").iloc[\n",
    "                :10, :\n",
    "            ]\n",
    "\n",
    "            wins_away_so_far_df = wins_away_so_far_df.loc[\n",
    "                wins_away_so_far_df[\"ID\"].isin(total_games_so_far_df[\"ID\"].to_numpy()),\n",
    "                :,\n",
    "            ]\n",
    "            wins_away_so_far = wins_away_so_far_df.shape[0]\n",
    "\n",
    "            total_games_so_far = 10\n",
    "\n",
    "        visitor_team_wins_10_last_games.append(wins_away_so_far / total_games_so_far)\n",
    "\n",
    "    else:\n",
    "        visitor_team_wins_so_far_list.append(None)\n",
    "        visitor_team_wins_10_last_games.append(None)\n",
    "\n",
    "    # Matches\n",
    "    matches_home_so_far = home_games_so_far_df.loc[\n",
    "        home_games_so_far_df[\"VisitorTeamID\"] == game[\"HomeTeamID\"], :\n",
    "    ]\n",
    "    matches_home_so_far_wins = matches_home_so_far.loc[\n",
    "        matches_home_so_far[\"HomeTeamWin\"] == 1, :\n",
    "    ].shape[0]\n",
    "\n",
    "    matches_away_so_far = away_games_so_far_df.loc[\n",
    "        away_games_so_far_df[\"HomeTeamID\"] == game[\"HomeTeamID\"], :\n",
    "    ]\n",
    "    matches_away_so_far_wins = matches_away_so_far.loc[\n",
    "        matches_away_so_far[\"VisitorTeamWin\"] == 1, :\n",
    "    ].shape[0]\n",
    "\n",
    "    total_matches_so_far = matches_home_so_far.shape[0] + matches_away_so_far.shape[0]\n",
    "\n",
    "    if total_matches_so_far > 0:\n",
    "        visitor_team_matches_wins.append(\n",
    "            (matches_home_so_far_wins + matches_away_so_far_wins) / total_matches_so_far\n",
    "        )\n",
    "    else:\n",
    "        visitor_team_matches_wins.append(None)"
   ]
  },
  {
   "cell_type": "code",
   "execution_count": null,
   "metadata": {},
   "outputs": [],
   "source": [
    "prediction_dataset[\"HomeTeamMatchesWins%\"] = home_team_matches_wins\n",
    "prediction_dataset[\"VisitorTeamMatchesWins%\"] = visitor_team_matches_wins\n",
    "prediction_dataset[\"HomeTeamWins%\"] = home_team_wins_so_far_list\n",
    "prediction_dataset[\"VisitorTeamWins%\"] = visitor_team_wins_so_far_list\n",
    "prediction_dataset[\"HomeTeam10GamesWins%\"] = home_team_wins_10_last_games\n",
    "prediction_dataset[\"VisitorTeam10GamesWins%\"] = visitor_team_wins_10_last_games"
   ]
  },
  {
   "cell_type": "code",
   "execution_count": null,
   "metadata": {},
   "outputs": [],
   "source": [
    "prediction_dataset.describe()"
   ]
  },
  {
   "cell_type": "code",
   "execution_count": null,
   "metadata": {},
   "outputs": [],
   "source": [
    "prediction_dataset = prediction_dataset.to_spark()\n"
   ]
  },
  {
   "cell_type": "code",
   "execution_count": null,
   "metadata": {},
   "outputs": [],
   "source": [
    "prediction_dataset.columns\n"
   ]
  },
  {
   "cell_type": "code",
   "execution_count": null,
   "metadata": {},
   "outputs": [],
   "source": [
    "training_columns = [\n",
    "    \"HomeTeamMatchesWins%\",\n",
    "    \"VisitorTeamMatchesWins%\",\n",
    "    \"HomeTeamWins%\",\n",
    "    \"VisitorTeamWins%\",\n",
    "    \"HomeTeam10GamesWins%\",\n",
    "    \"VisitorTeam10GamesWins%\",\n",
    "]\n"
   ]
  },
  {
   "cell_type": "code",
   "execution_count": null,
   "metadata": {},
   "outputs": [],
   "source": [
    "prediction_dataset = prediction_dataset.fillna(-1)\n"
   ]
  },
  {
   "cell_type": "code",
   "execution_count": null,
   "metadata": {},
   "outputs": [],
   "source": [
    "assembler = VectorAssembler(\n",
    "    inputCols=training_columns, outputCol=\"features\", handleInvalid=\"keep\"\n",
    ")\n",
    "bdp_train_assembler = assembler.transform(prediction_dataset).select(\n",
    "    \"features\", \"HomeTeamWin\"\n",
    ")\n"
   ]
  },
  {
   "cell_type": "code",
   "execution_count": null,
   "metadata": {},
   "outputs": [],
   "source": [
    "bdp_train_assembler.show()\n"
   ]
  },
  {
   "cell_type": "code",
   "execution_count": null,
   "metadata": {},
   "outputs": [],
   "source": [
    "scaler = MinMaxScaler(min=0.0, max=1.0, inputCol=\"features\",\n",
    "                      outputCol=\"scaledFeatures\")\n",
    "\n",
    "# Normalize the data\n",
    "scaledData = scaler.fit(bdp_train_assembler).transform(bdp_train_assembler)\n",
    "\n",
    "scaledData.show(5)\n"
   ]
  },
  {
   "cell_type": "code",
   "execution_count": null,
   "metadata": {},
   "outputs": [],
   "source": [
    "train_data, val_data = scaledData.randomSplit([0.8, 0.2])\n"
   ]
  },
  {
   "cell_type": "code",
   "execution_count": null,
   "metadata": {},
   "outputs": [],
   "source": [
    "def print_result(classifier, scores, results_df):\n",
    "    # extract params and use it as the base for ditionary rsults\n",
    "    dict_res = {\"Classifier\": classifier}\n",
    "\n",
    "    # recall\n",
    "    dict_res[\"Train score\"] = np.mean(scores[0]) * 100\n",
    "    dict_res[\"Val score\"] = np.mean(scores[1]) * 100\n",
    "\n",
    "    # print results\n",
    "    print(f\"Classifier: {dict_res['Classifier']}\")\n",
    "    print(\n",
    "        f\"Train score: {np.round(dict_res['Train score'],2)}, Validation score {np.round(dict_res['Val score'],2)}\"\n",
    "    )\n",
    "\n",
    "    results_df = results_df.append(dict_res, ignore_index=True)\n",
    "\n",
    "    return results_df\n"
   ]
  },
  {
   "cell_type": "code",
   "execution_count": null,
   "metadata": {},
   "outputs": [],
   "source": [
    "results_df = pd.DataFrame()\n"
   ]
  },
  {
   "cell_type": "code",
   "execution_count": null,
   "metadata": {},
   "outputs": [],
   "source": [
    "# In use for all models\n",
    "binary_eval = BinaryClassificationEvaluator(labelCol=\"HomeTeamWin\")\n",
    "evaluator = BinaryClassificationEvaluator()\n"
   ]
  },
  {
   "cell_type": "code",
   "execution_count": null,
   "metadata": {},
   "outputs": [],
   "source": [
    "from pyspark.ml.classification import LinearSVC\n",
    "\n",
    "linear_svm = LinearSVC(featuresCol=\"scaledFeatures\", labelCol=\"HomeTeamWin\")\n",
    "\n",
    "SVM_model = linear_svm.fit(train_data)\n",
    "\n",
    "lr_preds = SVM_model.transform(train_data)\n",
    "\n",
    "train_score = binary_eval.evaluate(lr_preds)\n",
    "\n",
    "lr_preds = SVM_model.transform(val_data)\n",
    "\n",
    "val_score = binary_eval.evaluate(lr_preds)\n",
    "\n",
    "results_df = print_result(\"Linear SVM\", [train_score, val_score], results_df)"
   ]
  },
  {
   "cell_type": "code",
   "execution_count": null,
   "metadata": {},
   "outputs": [],
   "source": [
    "from pyspark.ml.classification import LogisticRegression\n",
    "\n",
    "linear_reg = LogisticRegression(featuresCol=\"scaledFeatures\", labelCol=\"HomeTeamWin\")\n",
    "\n",
    "LR_model = linear_reg.fit(train_data)\n",
    "\n",
    "lr_preds = LR_model.transform(train_data)\n",
    "\n",
    "train_score = binary_eval.evaluate(lr_preds)\n",
    "\n",
    "lr_preds = LR_model.transform(val_data)\n",
    "\n",
    "val_score = binary_eval.evaluate(lr_preds)\n",
    "\n",
    "results_df = print_result(\"Logistic Regression\", [train_score, val_score], results_df)"
   ]
  },
  {
   "cell_type": "code",
   "execution_count": null,
   "metadata": {},
   "outputs": [],
   "source": [
    "from pyspark.ml.classification import DecisionTreeClassifier\n",
    "\n",
    "decision_tree = DecisionTreeClassifier(\n",
    "    featuresCol=\"scaledFeatures\", labelCol=\"HomeTeamWin\"\n",
    ")\n",
    "\n",
    "DT_model = decision_tree.fit(train_data)\n",
    "\n",
    "lr_preds = DT_model.transform(train_data)\n",
    "\n",
    "train_score = binary_eval.evaluate(lr_preds)\n",
    "\n",
    "lr_preds = DT_model.transform(val_data)\n",
    "\n",
    "val_score = binary_eval.evaluate(lr_preds)\n",
    "\n",
    "results_df = print_result(\"Decision Tree\", [train_score, val_score], results_df)"
   ]
  },
  {
   "cell_type": "code",
   "execution_count": null,
   "metadata": {},
   "outputs": [],
   "source": [
    "from pyspark.ml.classification import RandomForestClassifier\n",
    "\n",
    "random_forest = RandomForestClassifier(\n",
    "    featuresCol=\"scaledFeatures\", labelCol=\"HomeTeamWin\"\n",
    ")\n",
    "\n",
    "RF_model = random_forest.fit(train_data)\n",
    "\n",
    "lr_preds = RF_model.transform(train_data)\n",
    "\n",
    "train_score = binary_eval.evaluate(lr_preds)\n",
    "\n",
    "lr_preds = RF_model.transform(val_data)\n",
    "\n",
    "val_score = binary_eval.evaluate(lr_preds)\n",
    "\n",
    "results_df = print_result(\"Random Forest\", [train_score, val_score], results_df)"
   ]
  },
  {
   "cell_type": "code",
   "execution_count": null,
   "metadata": {},
   "outputs": [],
   "source": [
    "from pyspark.ml.classification import GBTClassifier\n",
    "\n",
    "gbt = GBTClassifier(featuresCol=\"scaledFeatures\", labelCol=\"HomeTeamWin\")\n",
    "\n",
    "GBT_model = gbt.fit(train_data)\n",
    "\n",
    "lr_preds = GBT_model.transform(train_data)\n",
    "\n",
    "train_score = binary_eval.evaluate(lr_preds)\n",
    "\n",
    "lr_preds = GBT_model.transform(val_data)\n",
    "\n",
    "val_score = binary_eval.evaluate(lr_preds)\n",
    "\n",
    "results_df = print_result(\n",
    "    \"Gradient Boosted Trees\", [train_score, val_score], results_df\n",
    ")"
   ]
  },
  {
   "cell_type": "code",
   "execution_count": null,
   "metadata": {},
   "outputs": [],
   "source": [
    "from pyspark.ml.classification import MultilayerPerceptronClassifier\n",
    "\n",
    "perceptron = MultilayerPerceptronClassifier(\n",
    "    featuresCol=\"scaledFeatures\",\n",
    "    labelCol=\"HomeTeamWin\",\n",
    "    layers=[len(training_columns), 4, 2],\n",
    ")\n",
    "\n",
    "MLP_model = perceptron.fit(train_data)\n",
    "\n",
    "lr_preds = MLP_model.transform(train_data)\n",
    "\n",
    "train_score = binary_eval.evaluate(lr_preds)\n",
    "\n",
    "lr_preds = MLP_model.transform(val_data)\n",
    "\n",
    "val_score = binary_eval.evaluate(lr_preds)\n",
    "\n",
    "results_df = print_result(\n",
    "    \"Multi Layer Perceptron\", [train_score, val_score], results_df\n",
    ")"
   ]
  },
  {
   "cell_type": "code",
   "execution_count": null,
   "metadata": {},
   "outputs": [],
   "source": [
    "from pyspark.ml.classification import NaiveBayes\n",
    "\n",
    "naive_bayes = NaiveBayes(featuresCol=\"scaledFeatures\", labelCol=\"HomeTeamWin\")\n",
    "\n",
    "NB_model = naive_bayes.fit(train_data)\n",
    "\n",
    "lr_preds = NB_model.transform(train_data)\n",
    "\n",
    "train_score = binary_eval.evaluate(lr_preds)\n",
    "\n",
    "lr_preds = NB_model.transform(val_data)\n",
    "\n",
    "val_score = binary_eval.evaluate(lr_preds)\n",
    "\n",
    "results_df = print_result(\"Naive Bayes\", [train_score, val_score], results_df)"
   ]
  },
  {
   "cell_type": "code",
   "execution_count": null,
   "metadata": {},
   "outputs": [],
   "source": [
    "results_df"
   ]
  },
  {
   "cell_type": "markdown",
   "metadata": {},
   "source": [
    "## Clear created data files"
   ]
  },
  {
   "cell_type": "code",
   "execution_count": null,
   "metadata": {},
   "outputs": [],
   "source": [
    "os.remove(\"Games.csv\")\n",
    "\n",
    "os.remove(\"Players.csv\")\n",
    "\n",
    "os.remove(\"Teams.csv\")\n",
    "\n",
    "os.remove(\"TeamRosters.csv\")\n",
    "\n",
    "os.remove(\"GameLineUp.csv\")\n",
    "\n",
    "os.remove(\"GameTeamScore.csv\")\n",
    "\n",
    "os.remove(\"GamePlayerScore.csv\")"
   ]
  },
  {
   "cell_type": "code",
   "execution_count": null,
   "metadata": {},
   "outputs": [],
   "source": []
  }
 ],
 "metadata": {
  "kernelspec": {
   "display_name": "Python 3 (ipykernel)",
   "language": "python",
   "name": "python3"
  },
  "language_info": {
   "codemirror_mode": {
    "name": "ipython",
    "version": 3
   },
   "file_extension": ".py",
   "mimetype": "text/x-python",
   "name": "python",
   "nbconvert_exporter": "python",
   "pygments_lexer": "ipython3",
   "version": "3.9.13"
  },
  "vscode": {
   "interpreter": {
    "hash": "c6e4e9f98eb68ad3b7c296f83d20e6de614cb42e90992a65aa266555a3137d0d"
   }
  }
 },
 "nbformat": 4,
 "nbformat_minor": 2
}
