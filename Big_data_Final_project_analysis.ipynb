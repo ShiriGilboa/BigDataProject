{
 "cells": [
  {
   "attachments": {},
   "cell_type": "markdown",
   "metadata": {},
   "source": [
    "# __Bid data platforms final project - Data analysis__"
   ]
  },
  {
   "attachments": {},
   "cell_type": "markdown",
   "metadata": {},
   "source": [
    "## Imports"
   ]
  },
  {
   "cell_type": "code",
   "execution_count": 27,
   "metadata": {
    "id": "IDexHskEgkky"
   },
   "outputs": [],
   "source": [
    "import findspark\n",
    "findspark.init()\n",
    "\n",
    "import sqlite3\n",
    "import random\n",
    "import os\n",
    "import numpy as np\n",
    "import pandas as pd\n",
    "import pyspark\n",
    "import seaborn as sns\n",
    "import matplotlib.pyplot as plt\n",
    "from pyspark.sql import SparkSession\n",
    "import pyspark.pandas as ps\n",
    "ps.set_option('compute.ops_on_diff_frames', True)\n",
    "\n",
    "%matplotlib widget\n",
    "sns.set_style(\"darkgrid\")\n",
    "\n",
    "import warnings\n",
    "warnings.filterwarnings('ignore')"
   ]
  },
  {
   "cell_type": "code",
   "execution_count": 28,
   "metadata": {},
   "outputs": [
    {
     "name": "stdout",
     "output_type": "stream",
     "text": [
      "List of tables\n",
      "\n",
      "[('Games',), ('Players',), ('Teams',), ('GameLineUps',), ('GameTeamScores',), ('GamePlayerScores',)]\n"
     ]
    }
   ],
   "source": [
    "DEFAULT_DB_NAME = \"NBA_DATA_BIG_DATA_PROJECT.db\"\n",
    "\n",
    "conn = sqlite3.connect('NBA_DATA_BIG_DATA_PROJECT.db')\n",
    "cursor = conn.cursor()\n",
    "\n",
    "# Getting all tables from sqlite_master\n",
    "query = \"\"\"SELECT name FROM sqlite_master\n",
    "           WHERE type='table';\"\"\"\n",
    "\n",
    "# executing our sql query\n",
    "cursor.execute(query)\n",
    "print(\"List of tables\\n\")\n",
    "\n",
    "# printing all tables list\n",
    "print(cursor.fetchall())"
   ]
  },
  {
   "cell_type": "code",
   "execution_count": 29,
   "metadata": {},
   "outputs": [
    {
     "name": "stdout",
     "output_type": "stream",
     "text": [
      "23/02/05 19:45:36 WARN SparkSession: Using an existing Spark session; only runtime SQL configurations will take effect.\n"
     ]
    }
   ],
   "source": [
    "from pyspark.conf import SparkConf\n",
    "\n",
    "conf = SparkConf()  # create the configuration\n",
    "conf.set(\"spark.jars\", \"/Users/ronibendom/Master/Big Data Platforms/BigDataProject/sqlite-jdbc-3.40.1.0.jar\")  # set the spark.jars\n",
    "\n",
    "...\n",
    "spark = SparkSession.builder \\\n",
    "        .config(conf=conf) \\\n",
    "        .master(\"local\") \\\n",
    "        .appName(\"SQLite JDBC\")\\\n",
    "        .config(\"spark.driver.extraClassPath\",\"/Users/ronibendom/Master/Big Data Platforms/BigDataProject/ssqlite-jdbc-3.40.1.0.jar\")\\\n",
    "        .config(\"spark.executor.extraClassPath\",\"/Users/ronibendom/Master/Big Data Platforms/BigDataProject/sqlite-jdbc-3.40.1.0.jar\")\\\n",
    "        .getOrCreate()"
   ]
  },
  {
   "cell_type": "code",
   "execution_count": 31,
   "metadata": {},
   "outputs": [
    {
     "ename": "Py4JJavaError",
     "evalue": "An error occurred while calling o262.load.\n: java.sql.SQLException: No suitable driver\n\tat java.sql/java.sql.DriverManager.getDriver(DriverManager.java:300)\n\tat org.apache.spark.sql.execution.datasources.jdbc.JDBCOptions.$anonfun$driverClass$2(JDBCOptions.scala:107)\n\tat scala.Option.getOrElse(Option.scala:189)\n\tat org.apache.spark.sql.execution.datasources.jdbc.JDBCOptions.<init>(JDBCOptions.scala:107)\n\tat org.apache.spark.sql.execution.datasources.jdbc.JDBCOptions.<init>(JDBCOptions.scala:39)\n\tat org.apache.spark.sql.execution.datasources.jdbc.JdbcRelationProvider.createRelation(JdbcRelationProvider.scala:34)\n\tat org.apache.spark.sql.execution.datasources.DataSource.resolveRelation(DataSource.scala:350)\n\tat org.apache.spark.sql.DataFrameReader.loadV1Source(DataFrameReader.scala:228)\n\tat org.apache.spark.sql.DataFrameReader.$anonfun$load$2(DataFrameReader.scala:210)\n\tat scala.Option.getOrElse(Option.scala:189)\n\tat org.apache.spark.sql.DataFrameReader.load(DataFrameReader.scala:210)\n\tat org.apache.spark.sql.DataFrameReader.load(DataFrameReader.scala:171)\n\tat java.base/jdk.internal.reflect.DirectMethodHandleAccessor.invoke(DirectMethodHandleAccessor.java:104)\n\tat java.base/java.lang.reflect.Method.invoke(Method.java:578)\n\tat py4j.reflection.MethodInvoker.invoke(MethodInvoker.java:244)\n\tat py4j.reflection.ReflectionEngine.invoke(ReflectionEngine.java:357)\n\tat py4j.Gateway.invoke(Gateway.java:282)\n\tat py4j.commands.AbstractCommand.invokeMethod(AbstractCommand.java:132)\n\tat py4j.commands.CallCommand.execute(CallCommand.java:79)\n\tat py4j.ClientServerConnection.waitForCommands(ClientServerConnection.java:182)\n\tat py4j.ClientServerConnection.run(ClientServerConnection.java:106)\n\tat java.base/java.lang.Thread.run(Thread.java:1589)\n",
     "output_type": "error",
     "traceback": [
      "\u001b[0;31m---------------------------------------------------------------------------\u001b[0m",
      "\u001b[0;31mPy4JJavaError\u001b[0m                             Traceback (most recent call last)",
      "Cell \u001b[0;32mIn[31], line 1\u001b[0m\n\u001b[0;32m----> 1\u001b[0m df \u001b[39m=\u001b[39m ps\u001b[39m.\u001b[39;49mread_sql(\u001b[39m\"\u001b[39;49m\u001b[39mGames\u001b[39;49m\u001b[39m\"\u001b[39;49m, con\u001b[39m=\u001b[39;49m\u001b[39m\"\u001b[39;49m\u001b[39mjdbc:sqlite:/Users/ronibendom/Master/Big Data Platforms/BigDataProject/NBA_DATA_BIG_DATA_PROJECT.db\u001b[39;49m\u001b[39m\"\u001b[39;49m)\n\u001b[1;32m      2\u001b[0m df\n",
      "File \u001b[0;32m/opt/homebrew/Caskroom/miniforge/base/lib/python3.9/site-packages/pyspark/pandas/namespace.py:1545\u001b[0m, in \u001b[0;36mread_sql\u001b[0;34m(sql, con, index_col, columns, **options)\u001b[0m\n\u001b[1;32m   1543\u001b[0m striped \u001b[39m=\u001b[39m sql\u001b[39m.\u001b[39mstrip()\n\u001b[1;32m   1544\u001b[0m \u001b[39mif\u001b[39;00m \u001b[39m\"\u001b[39m\u001b[39m \u001b[39m\u001b[39m\"\u001b[39m \u001b[39mnot\u001b[39;00m \u001b[39min\u001b[39;00m striped:  \u001b[39m# TODO: identify the table name or not more precisely.\u001b[39;00m\n\u001b[0;32m-> 1545\u001b[0m     \u001b[39mreturn\u001b[39;00m read_sql_table(sql, con, index_col\u001b[39m=\u001b[39;49mindex_col, columns\u001b[39m=\u001b[39;49mcolumns, \u001b[39m*\u001b[39;49m\u001b[39m*\u001b[39;49moptions)\n\u001b[1;32m   1546\u001b[0m \u001b[39melse\u001b[39;00m:\n\u001b[1;32m   1547\u001b[0m     \u001b[39mreturn\u001b[39;00m read_sql_query(sql, con, index_col\u001b[39m=\u001b[39mindex_col, \u001b[39m*\u001b[39m\u001b[39m*\u001b[39moptions)\n",
      "File \u001b[0;32m/opt/homebrew/Caskroom/miniforge/base/lib/python3.9/site-packages/pyspark/pandas/namespace.py:1420\u001b[0m, in \u001b[0;36mread_sql_table\u001b[0;34m(table_name, con, schema, index_col, columns, **options)\u001b[0m\n\u001b[1;32m   1418\u001b[0m     reader\u001b[39m.\u001b[39mschema(schema)\n\u001b[1;32m   1419\u001b[0m reader\u001b[39m.\u001b[39moptions(\u001b[39m*\u001b[39m\u001b[39m*\u001b[39moptions)\n\u001b[0;32m-> 1420\u001b[0m sdf \u001b[39m=\u001b[39m reader\u001b[39m.\u001b[39;49mformat(\u001b[39m\"\u001b[39;49m\u001b[39mjdbc\u001b[39;49m\u001b[39m\"\u001b[39;49m)\u001b[39m.\u001b[39;49mload()\n\u001b[1;32m   1421\u001b[0m index_spark_columns, index_names \u001b[39m=\u001b[39m _get_index_map(sdf, index_col)\n\u001b[1;32m   1422\u001b[0m psdf: DataFrame \u001b[39m=\u001b[39m DataFrame(\n\u001b[1;32m   1423\u001b[0m     InternalFrame(\n\u001b[1;32m   1424\u001b[0m         spark_frame\u001b[39m=\u001b[39msdf, index_spark_columns\u001b[39m=\u001b[39mindex_spark_columns, index_names\u001b[39m=\u001b[39mindex_names\n\u001b[1;32m   1425\u001b[0m     )\n\u001b[1;32m   1426\u001b[0m )\n",
      "File \u001b[0;32m/opt/homebrew/Caskroom/miniforge/base/lib/python3.9/site-packages/pyspark/sql/readwriter.py:184\u001b[0m, in \u001b[0;36mDataFrameReader.load\u001b[0;34m(self, path, format, schema, **options)\u001b[0m\n\u001b[1;32m    182\u001b[0m     \u001b[39mreturn\u001b[39;00m \u001b[39mself\u001b[39m\u001b[39m.\u001b[39m_df(\u001b[39mself\u001b[39m\u001b[39m.\u001b[39m_jreader\u001b[39m.\u001b[39mload(\u001b[39mself\u001b[39m\u001b[39m.\u001b[39m_spark\u001b[39m.\u001b[39m_sc\u001b[39m.\u001b[39m_jvm\u001b[39m.\u001b[39mPythonUtils\u001b[39m.\u001b[39mtoSeq(path)))\n\u001b[1;32m    183\u001b[0m \u001b[39melse\u001b[39;00m:\n\u001b[0;32m--> 184\u001b[0m     \u001b[39mreturn\u001b[39;00m \u001b[39mself\u001b[39m\u001b[39m.\u001b[39m_df(\u001b[39mself\u001b[39;49m\u001b[39m.\u001b[39;49m_jreader\u001b[39m.\u001b[39;49mload())\n",
      "File \u001b[0;32m/opt/homebrew/Caskroom/miniforge/base/lib/python3.9/site-packages/py4j/java_gateway.py:1321\u001b[0m, in \u001b[0;36mJavaMember.__call__\u001b[0;34m(self, *args)\u001b[0m\n\u001b[1;32m   1315\u001b[0m command \u001b[39m=\u001b[39m proto\u001b[39m.\u001b[39mCALL_COMMAND_NAME \u001b[39m+\u001b[39m\\\n\u001b[1;32m   1316\u001b[0m     \u001b[39mself\u001b[39m\u001b[39m.\u001b[39mcommand_header \u001b[39m+\u001b[39m\\\n\u001b[1;32m   1317\u001b[0m     args_command \u001b[39m+\u001b[39m\\\n\u001b[1;32m   1318\u001b[0m     proto\u001b[39m.\u001b[39mEND_COMMAND_PART\n\u001b[1;32m   1320\u001b[0m answer \u001b[39m=\u001b[39m \u001b[39mself\u001b[39m\u001b[39m.\u001b[39mgateway_client\u001b[39m.\u001b[39msend_command(command)\n\u001b[0;32m-> 1321\u001b[0m return_value \u001b[39m=\u001b[39m get_return_value(\n\u001b[1;32m   1322\u001b[0m     answer, \u001b[39mself\u001b[39;49m\u001b[39m.\u001b[39;49mgateway_client, \u001b[39mself\u001b[39;49m\u001b[39m.\u001b[39;49mtarget_id, \u001b[39mself\u001b[39;49m\u001b[39m.\u001b[39;49mname)\n\u001b[1;32m   1324\u001b[0m \u001b[39mfor\u001b[39;00m temp_arg \u001b[39min\u001b[39;00m temp_args:\n\u001b[1;32m   1325\u001b[0m     temp_arg\u001b[39m.\u001b[39m_detach()\n",
      "File \u001b[0;32m/opt/homebrew/Caskroom/miniforge/base/lib/python3.9/site-packages/pyspark/sql/utils.py:190\u001b[0m, in \u001b[0;36mcapture_sql_exception.<locals>.deco\u001b[0;34m(*a, **kw)\u001b[0m\n\u001b[1;32m    188\u001b[0m \u001b[39mdef\u001b[39;00m \u001b[39mdeco\u001b[39m(\u001b[39m*\u001b[39ma: Any, \u001b[39m*\u001b[39m\u001b[39m*\u001b[39mkw: Any) \u001b[39m-\u001b[39m\u001b[39m>\u001b[39m Any:\n\u001b[1;32m    189\u001b[0m     \u001b[39mtry\u001b[39;00m:\n\u001b[0;32m--> 190\u001b[0m         \u001b[39mreturn\u001b[39;00m f(\u001b[39m*\u001b[39;49ma, \u001b[39m*\u001b[39;49m\u001b[39m*\u001b[39;49mkw)\n\u001b[1;32m    191\u001b[0m     \u001b[39mexcept\u001b[39;00m Py4JJavaError \u001b[39mas\u001b[39;00m e:\n\u001b[1;32m    192\u001b[0m         converted \u001b[39m=\u001b[39m convert_exception(e\u001b[39m.\u001b[39mjava_exception)\n",
      "File \u001b[0;32m/opt/homebrew/Caskroom/miniforge/base/lib/python3.9/site-packages/py4j/protocol.py:326\u001b[0m, in \u001b[0;36mget_return_value\u001b[0;34m(answer, gateway_client, target_id, name)\u001b[0m\n\u001b[1;32m    324\u001b[0m value \u001b[39m=\u001b[39m OUTPUT_CONVERTER[\u001b[39mtype\u001b[39m](answer[\u001b[39m2\u001b[39m:], gateway_client)\n\u001b[1;32m    325\u001b[0m \u001b[39mif\u001b[39;00m answer[\u001b[39m1\u001b[39m] \u001b[39m==\u001b[39m REFERENCE_TYPE:\n\u001b[0;32m--> 326\u001b[0m     \u001b[39mraise\u001b[39;00m Py4JJavaError(\n\u001b[1;32m    327\u001b[0m         \u001b[39m\"\u001b[39m\u001b[39mAn error occurred while calling \u001b[39m\u001b[39m{0}\u001b[39;00m\u001b[39m{1}\u001b[39;00m\u001b[39m{2}\u001b[39;00m\u001b[39m.\u001b[39m\u001b[39m\\n\u001b[39;00m\u001b[39m\"\u001b[39m\u001b[39m.\u001b[39m\n\u001b[1;32m    328\u001b[0m         \u001b[39mformat\u001b[39m(target_id, \u001b[39m\"\u001b[39m\u001b[39m.\u001b[39m\u001b[39m\"\u001b[39m, name), value)\n\u001b[1;32m    329\u001b[0m \u001b[39melse\u001b[39;00m:\n\u001b[1;32m    330\u001b[0m     \u001b[39mraise\u001b[39;00m Py4JError(\n\u001b[1;32m    331\u001b[0m         \u001b[39m\"\u001b[39m\u001b[39mAn error occurred while calling \u001b[39m\u001b[39m{0}\u001b[39;00m\u001b[39m{1}\u001b[39;00m\u001b[39m{2}\u001b[39;00m\u001b[39m. Trace:\u001b[39m\u001b[39m\\n\u001b[39;00m\u001b[39m{3}\u001b[39;00m\u001b[39m\\n\u001b[39;00m\u001b[39m\"\u001b[39m\u001b[39m.\u001b[39m\n\u001b[1;32m    332\u001b[0m         \u001b[39mformat\u001b[39m(target_id, \u001b[39m\"\u001b[39m\u001b[39m.\u001b[39m\u001b[39m\"\u001b[39m, name, value))\n",
      "\u001b[0;31mPy4JJavaError\u001b[0m: An error occurred while calling o262.load.\n: java.sql.SQLException: No suitable driver\n\tat java.sql/java.sql.DriverManager.getDriver(DriverManager.java:300)\n\tat org.apache.spark.sql.execution.datasources.jdbc.JDBCOptions.$anonfun$driverClass$2(JDBCOptions.scala:107)\n\tat scala.Option.getOrElse(Option.scala:189)\n\tat org.apache.spark.sql.execution.datasources.jdbc.JDBCOptions.<init>(JDBCOptions.scala:107)\n\tat org.apache.spark.sql.execution.datasources.jdbc.JDBCOptions.<init>(JDBCOptions.scala:39)\n\tat org.apache.spark.sql.execution.datasources.jdbc.JdbcRelationProvider.createRelation(JdbcRelationProvider.scala:34)\n\tat org.apache.spark.sql.execution.datasources.DataSource.resolveRelation(DataSource.scala:350)\n\tat org.apache.spark.sql.DataFrameReader.loadV1Source(DataFrameReader.scala:228)\n\tat org.apache.spark.sql.DataFrameReader.$anonfun$load$2(DataFrameReader.scala:210)\n\tat scala.Option.getOrElse(Option.scala:189)\n\tat org.apache.spark.sql.DataFrameReader.load(DataFrameReader.scala:210)\n\tat org.apache.spark.sql.DataFrameReader.load(DataFrameReader.scala:171)\n\tat java.base/jdk.internal.reflect.DirectMethodHandleAccessor.invoke(DirectMethodHandleAccessor.java:104)\n\tat java.base/java.lang.reflect.Method.invoke(Method.java:578)\n\tat py4j.reflection.MethodInvoker.invoke(MethodInvoker.java:244)\n\tat py4j.reflection.ReflectionEngine.invoke(ReflectionEngine.java:357)\n\tat py4j.Gateway.invoke(Gateway.java:282)\n\tat py4j.commands.AbstractCommand.invokeMethod(AbstractCommand.java:132)\n\tat py4j.commands.CallCommand.execute(CallCommand.java:79)\n\tat py4j.ClientServerConnection.waitForCommands(ClientServerConnection.java:182)\n\tat py4j.ClientServerConnection.run(ClientServerConnection.java:106)\n\tat java.base/java.lang.Thread.run(Thread.java:1589)\n"
     ]
    },
    {
     "name": "stdout",
     "output_type": "stream",
     "text": [
      "23/02/06 06:35:22 WARN HeartbeatReceiver: Removing executor driver with no recent heartbeats: 943323 ms exceeds timeout 120000 ms\n",
      "23/02/06 06:35:22 WARN SparkContext: Killing executors is not supported by current scheduler.\n"
     ]
    }
   ],
   "source": [
    "df = ps.read_sql(\"Games\", con=\"jdbc:sqlite:/Users/ronibendom/Master/Big Data Platforms/BigDataProject/NBA_DATA_BIG_DATA_PROJECT.db\")\n",
    "df"
   ]
  },
  {
   "cell_type": "code",
   "execution_count": null,
   "metadata": {},
   "outputs": [],
   "source": [
    "spark.stop()"
   ]
  },
  {
   "attachments": {},
   "cell_type": "markdown",
   "metadata": {},
   "source": [
    "## Utils"
   ]
  },
  {
   "cell_type": "code",
   "execution_count": null,
   "metadata": {},
   "outputs": [],
   "source": [
    "figure_count = 0"
   ]
  },
  {
   "cell_type": "code",
   "execution_count": null,
   "metadata": {},
   "outputs": [],
   "source": [
    "def index_to_strings(argument, team_name, stat_name, value):\n",
    "    switcher = {\n",
    "        0: f'Team with highest {stat_name} is {team_name} - {value}',\n",
    "        1: f'Team with 2nd highest {stat_name} is {team_name} - {value}',\n",
    "        2: f'Team with 3rd highest {stat_name} is {team_name} - {value}',\n",
    "    }\n",
    "\n",
    "    return switcher.get(argument, \"nothing\")"
   ]
  },
  {
   "cell_type": "code",
   "execution_count": null,
   "metadata": {},
   "outputs": [],
   "source": [
    "def index_to_strings_players(argument, player_name, stat_name, value):\n",
    "    switcher = {\n",
    "        0: f'Player with highest {stat_name} is {player_name} - {value}',\n",
    "        1: f'Player with 2nd highest {stat_name} is {player_name} - {value}',\n",
    "        2: f'Player with 3rd highest {stat_name} is {player_name} - {value}',\n",
    "    }\n",
    "\n",
    "    return switcher.get(argument, \"nothing\")"
   ]
  },
  {
   "attachments": {},
   "cell_type": "markdown",
   "metadata": {},
   "source": [
    "## Read data"
   ]
  },
  {
   "cell_type": "code",
   "execution_count": null,
   "metadata": {},
   "outputs": [],
   "source": [
    "spark = SparkSession.builder.appName('treatmeant').getOrCreate()"
   ]
  },
  {
   "cell_type": "code",
   "execution_count": null,
   "metadata": {},
   "outputs": [],
   "source": [
    "# Use Spark to read the training csv file.\n",
    "teams = spark.read.csv(\"Teams.csv\", inferSchema=True, header=True)\n",
    "teams = teams.to_pandas_on_spark()\n",
    "players = spark.read.csv(\"Players.csv\", inferSchema=True, header=True)\n",
    "players = players.to_pandas_on_spark()\n",
    "games = spark.read.csv(\"Games.csv\", inferSchema=True, header=True)\n",
    "games = games.to_pandas_on_spark()\n",
    "team_rosters = spark.read.csv(\"TeamRosters.csv\", inferSchema=True, header=True)\n",
    "team_rosters = team_rosters.to_pandas_on_spark()\n",
    "game_line_up = spark.read.csv(\"GameLineUp.csv\", inferSchema=True, header=True)\n",
    "game_line_up = game_line_up.to_pandas_on_spark()\n",
    "game_team_score = spark.read.csv(\"GameTeamScore.csv\", inferSchema=True, header=True)\n",
    "game_team_score = game_team_score.to_pandas_on_spark()\n",
    "game_player_score = spark.read.csv(\"GamePlayerScore.csv\", inferSchema=True, header=True)\n",
    "game_player_score = game_player_score.to_pandas_on_spark()"
   ]
  },
  {
   "attachments": {},
   "cell_type": "markdown",
   "metadata": {},
   "source": [
    "## Display data info"
   ]
  },
  {
   "cell_type": "code",
   "execution_count": null,
   "metadata": {},
   "outputs": [],
   "source": [
    "teams_dict = {row['ID']: row['City'] + \" \" + row['TeamName'] for index, row in teams.iterrows()}\n",
    "teams.info()"
   ]
  },
  {
   "cell_type": "code",
   "execution_count": null,
   "metadata": {},
   "outputs": [],
   "source": [
    "teams"
   ]
  },
  {
   "cell_type": "code",
   "execution_count": null,
   "metadata": {},
   "outputs": [],
   "source": [
    "players_dict = {row['ID']: row['FirstName'] + \" \" + row['LastName'] for index, row in players.iterrows()}\n",
    "players.info()"
   ]
  },
  {
   "cell_type": "code",
   "execution_count": null,
   "metadata": {},
   "outputs": [],
   "source": [
    "games = games.loc[(games['HomeTeamID'].isin(teams_dict.keys())) & (games['VisitorTeamID'].isin(teams_dict.keys())), :]\n",
    "games.info()"
   ]
  },
  {
   "cell_type": "code",
   "execution_count": null,
   "metadata": {},
   "outputs": [],
   "source": [
    "team_rosters.info()"
   ]
  },
  {
   "cell_type": "code",
   "execution_count": null,
   "metadata": {},
   "outputs": [],
   "source": [
    "game_line_up = game_line_up.loc[game_line_up['GameID'].isin(games['ID'].to_numpy())]\n",
    "game_line_up.info()"
   ]
  },
  {
   "cell_type": "code",
   "execution_count": null,
   "metadata": {},
   "outputs": [],
   "source": [
    "game_team_score = game_team_score.loc[game_team_score['TeamID'].isin(teams_dict.keys()), :]\n",
    "game_team_score.info()"
   ]
  },
  {
   "cell_type": "code",
   "execution_count": null,
   "metadata": {},
   "outputs": [],
   "source": [
    "game_player_score = game_player_score.loc[game_player_score['PlayerID'].isin(players_dict.keys()), :]\n",
    "game_player_score.info()"
   ]
  },
  {
   "attachments": {},
   "cell_type": "markdown",
   "metadata": {},
   "source": [
    "## __Season level analysis__"
   ]
  },
  {
   "attachments": {},
   "cell_type": "markdown",
   "metadata": {},
   "source": [
    "### Per game Per group statistics - from each game 2 values are taken into acount, one for each group"
   ]
  },
  {
   "attachments": {},
   "cell_type": "markdown",
   "metadata": {},
   "source": [
    "__Histogram of number of games a group played in the current season (2022-2023) so far__"
   ]
  },
  {
   "cell_type": "code",
   "execution_count": null,
   "metadata": {},
   "outputs": [],
   "source": [
    "finished_games = games.loc[games['LiveStatus'] == 'Final', :]"
   ]
  },
  {
   "cell_type": "code",
   "execution_count": null,
   "metadata": {},
   "outputs": [],
   "source": [
    "home_games = finished_games['HomeTeamID'].value_counts()\n",
    "visitor_games = finished_games['VisitorTeamID'].value_counts()\n",
    "indexes = home_games.index\n",
    "total_games = pyspark.pandas.Series({teamID: home_games[teamID] + visitor_games[teamID] for teamID in home_games.index.to_list()})"
   ]
  },
  {
   "cell_type": "code",
   "execution_count": null,
   "metadata": {},
   "outputs": [],
   "source": [
    "fig = plt.figure(figure_count, figsize = (9, 6))\n",
    "figure_count += 1\n",
    "ax = sns.histplot(total_games.to_numpy(), alpha = 0.5, bins = np.arange(44, 51))\n",
    "ax.set(title = \"# of games a team played so far in the season\", xlabel = '# of games', ylabel='count[teams]')\n",
    "plt.legend([],[], frameon = False)\n",
    "plt.show(fig);"
   ]
  },
  {
   "attachments": {},
   "cell_type": "markdown",
   "metadata": {},
   "source": [
    "__Histogram of number of players per game (for a single group) in the current season (2022-2023) so far__"
   ]
  },
  {
   "cell_type": "code",
   "execution_count": null,
   "metadata": {},
   "outputs": [],
   "source": [
    "fig = plt.figure(figure_count, figsize = (9, 6))\n",
    "figure_count += 1\n",
    "ax = sns.histplot(game_line_up.groupby(['GameID', 'TeamID']).count().to_numpy(), alpha = 0.5)\n",
    "ax.set(title = \"# of players in a single game (per team)\", xlabel = '# of players', ylabel='count[games]')\n",
    "plt.legend([],[], frameon = False)\n",
    "plt.show(fig);"
   ]
  },
  {
   "attachments": {},
   "cell_type": "markdown",
   "metadata": {},
   "source": [
    "### Field goals"
   ]
  },
  {
   "attachments": {},
   "cell_type": "markdown",
   "metadata": {},
   "source": [
    "__Histogram of field goals made out of field goals attempted in a single game per group in the current season (2022-2023) so far__"
   ]
  },
  {
   "cell_type": "code",
   "execution_count": null,
   "metadata": {},
   "outputs": [],
   "source": [
    "fig = plt.figure(figure_count, figsize = (9, 6))\n",
    "figure_count += 1\n",
    "ax = sns.histplot(game_team_score['FGPER'].to_numpy(), alpha = 0.5, kde = True, bins = np.arange(30, 70))\n",
    "ax.set(title = \"Percentage of field goals made in a single game (per team)\", xlabel = '% of field goals made', ylabel='count[games]')\n",
    "plt.legend([],[], frameon = False)\n",
    "plt.show(fig);"
   ]
  },
  {
   "cell_type": "code",
   "execution_count": null,
   "metadata": {},
   "outputs": [],
   "source": [
    "three_best_teams = game_team_score.loc[:, ['TeamID', 'FGPER']].groupby(['TeamID']).mean().nlargest(3, columns='FGPER')\n",
    "for i, (index, team) in enumerate(three_best_teams.iterrows()):\n",
    "    print(index_to_strings(i, teams_dict[index], 'FG%',  f'{team.values[0]:.2f}%'))\n"
   ]
  },
  {
   "attachments": {},
   "cell_type": "markdown",
   "metadata": {},
   "source": [
    "### Three points field goals"
   ]
  },
  {
   "attachments": {},
   "cell_type": "markdown",
   "metadata": {},
   "source": [
    "__Histogram of three point field goal made out of attempted in a single game per group in the current season (2022-2023) so far__"
   ]
  },
  {
   "cell_type": "code",
   "execution_count": null,
   "metadata": {},
   "outputs": [],
   "source": [
    "fig = plt.figure(figure_count, figsize = (9, 6))\n",
    "figure_count += 1\n",
    "ax = sns.histplot(game_team_score['ThreePPER'].to_numpy(), alpha = 0.5, kde = True, bins = np.arange(10, 70))\n",
    "ax.set(title = \"Percentage of three points field goals made in a single game (per team)\", xlabel = '% of three points field goals made', ylabel='count[games]')\n",
    "plt.legend([],[], frameon = False)\n",
    "plt.show(fig);"
   ]
  },
  {
   "cell_type": "code",
   "execution_count": null,
   "metadata": {},
   "outputs": [],
   "source": [
    "three_best_teams = game_team_score.loc[:, ['TeamID', 'ThreePPER']].groupby(['TeamID']).mean().nlargest(3, columns='ThreePPER')\n",
    "for i, (index, team) in enumerate(three_best_teams.iterrows()):\n",
    "    print(index_to_strings(i, teams_dict[index], '3FG%',  f'{team.values[0]:.2f}%'))\n"
   ]
  },
  {
   "cell_type": "code",
   "execution_count": null,
   "metadata": {},
   "outputs": [],
   "source": [
    "game_player_score.shape"
   ]
  },
  {
   "cell_type": "code",
   "execution_count": null,
   "metadata": {},
   "outputs": [],
   "source": [
    "grouped = game_player_score.to_pandas().loc[:, ['PlayerID', 'ThreePA', 'ThreePPER']].groupby('PlayerID')\n",
    "grouped.filter(lambda x: x['ThreePA'].count() > 10).loc[:, ['PlayerID', 'ThreePPER']].groupby('PlayerID').mean()"
   ]
  },
  {
   "cell_type": "code",
   "execution_count": null,
   "metadata": {},
   "outputs": [],
   "source": [
    "grouped = game_player_score.to_pandas().loc[:, ['PlayerID', 'ThreePA', 'ThreePPER']].groupby('PlayerID')\n",
    "three_best_players = grouped.filter(lambda x: x['ThreePA'].count() > 10).loc[:, ['PlayerID', 'ThreePPER']].groupby('PlayerID').mean().nlargest(3, columns='ThreePPER')\n",
    "for i, (index, player) in enumerate(three_best_players.iterrows()):\n",
    "    print(index_to_strings_players(i, players_dict[index], '3FG%', f'{player.values[0]:.2f}%'))"
   ]
  },
  {
   "attachments": {},
   "cell_type": "markdown",
   "metadata": {},
   "source": [
    "__Histogram of three point field goal made out of field goal made in a single game per group in the current season (2022-2023) so far__"
   ]
  },
  {
   "cell_type": "code",
   "execution_count": null,
   "metadata": {},
   "outputs": [],
   "source": [
    "game_team_score['3FGM_to_FGM'] = game_team_score['ThreePM'] * 100 /game_team_score['FGM']\n",
    "fig = plt.figure(figure_count, figsize = (9, 6))\n",
    "figure_count += 1\n",
    "ax = sns.histplot(game_team_score['3FGM_to_FGM'].to_numpy(), alpha = 0.5, kde = True, bins = np.arange(10, 70))\n",
    "ax.set(title = \"Percentage of 3FGM out og FGM in a single game (per team)\", xlabel = '% of 3FGM out of FGM', ylabel='count[games]')\n",
    "plt.legend([],[], frameon = False)\n",
    "plt.show(fig);"
   ]
  },
  {
   "cell_type": "code",
   "execution_count": null,
   "metadata": {},
   "outputs": [],
   "source": [
    "three_best_teams = game_team_score.loc[:, ['TeamID', '3FGM_to_FGM']].groupby(['TeamID']).mean().nlargest(3, columns='3FGM_to_FGM')\n",
    "for i, (index, team) in enumerate(three_best_teams.iterrows()):\n",
    "    print(index_to_strings(i, teams_dict[index], 'precentage of 3FGM out of FGM', f'{team.values[0]:.2f}%'))"
   ]
  },
  {
   "attachments": {},
   "cell_type": "markdown",
   "metadata": {},
   "source": [
    "### Free throws"
   ]
  },
  {
   "attachments": {},
   "cell_type": "markdown",
   "metadata": {},
   "source": [
    "__Histogram of free throws made out of free throws attempted in a single game per group in the current season (2022-2023) so far__"
   ]
  },
  {
   "cell_type": "code",
   "execution_count": null,
   "metadata": {},
   "outputs": [],
   "source": [
    "fig = plt.figure(figure_count, figsize = (9, 6))\n",
    "figure_count += 1\n",
    "ax = sns.histplot(game_team_score['FTPER'].to_numpy(), alpha = 0.5, kde = True)\n",
    "ax.set(title = \"Percentage of free throws made in a single game (per team)\", xlabel = '% of free throws made', ylabel='count[games]')\n",
    "plt.legend([],[], frameon = False)\n",
    "plt.show(fig);"
   ]
  },
  {
   "cell_type": "code",
   "execution_count": null,
   "metadata": {},
   "outputs": [],
   "source": [
    "three_best_teams = game_team_score.loc[:, ['TeamID', 'FTPER']].groupby(['TeamID']).mean().nlargest(3, columns='FTPER')\n",
    "for i, (index, team) in enumerate(three_best_teams.iterrows()):\n",
    "    print(index_to_strings(i, teams_dict[index], 'FT%', f'{team.values[0]:.2f}%'))"
   ]
  },
  {
   "attachments": {},
   "cell_type": "markdown",
   "metadata": {},
   "source": [
    "### Rebounds"
   ]
  },
  {
   "attachments": {},
   "cell_type": "markdown",
   "metadata": {},
   "source": [
    "__Histogram of total rebounds in a single game per group in the current season (2022-2023) so far__"
   ]
  },
  {
   "cell_type": "code",
   "execution_count": null,
   "metadata": {},
   "outputs": [],
   "source": [
    "game_team_score['REB'] = game_team_score['OREB'] + game_team_score['DREB']\n",
    "fig = plt.figure(figure_count, figsize = (9, 6))\n",
    "figure_count += 1\n",
    "ax = sns.histplot(game_team_score['REB'].to_numpy(), alpha = 0.5, kde = True, bins = np.arange(23, 70))\n",
    "ax.set(title = \"# of rebounds in a single game (per team)\", xlabel = '# of rebounds', ylabel='count[games]')\n",
    "plt.legend([],[], frameon = False)\n",
    "plt.show(fig);"
   ]
  },
  {
   "cell_type": "code",
   "execution_count": null,
   "metadata": {},
   "outputs": [],
   "source": [
    "three_best_teams = game_team_score.loc[:, ['TeamID', 'REB']].groupby(['TeamID']).mean().nlargest(3, columns='REB')\n",
    "for i, (index, team) in enumerate(three_best_teams.iterrows()):\n",
    "    print(index_to_strings(i, teams_dict[index], 'avg number of rebounds', f'{team.values[0]:.2f}'))"
   ]
  },
  {
   "cell_type": "code",
   "execution_count": null,
   "metadata": {},
   "outputs": [],
   "source": [
    "game_player_score['REB'] = game_player_score['OREB'] + game_player_score['DREB']\n",
    "three_best_players = game_player_score.loc[:, ['PlayerID', 'REB']].groupby(['PlayerID']).mean().nlargest(3, columns='REB')\n",
    "for i, (index, player) in enumerate(three_best_players.iterrows()):\n",
    "    print(index_to_strings_players(i, players_dict[index], 'avg number of rebounds', f'{player.values[0]:.2f}'))"
   ]
  },
  {
   "attachments": {},
   "cell_type": "markdown",
   "metadata": {},
   "source": [
    "__Histogram of offensive rebounds in a single game per group in the current season (2022-2023) so far__"
   ]
  },
  {
   "cell_type": "code",
   "execution_count": null,
   "metadata": {},
   "outputs": [],
   "source": [
    "fig = plt.figure(figure_count, figsize = (9, 6))\n",
    "figure_count += 1\n",
    "ax = sns.histplot(game_team_score['OREB'].to_numpy(), alpha = 0.5, kde = True, bins = np.arange(0, 30))\n",
    "ax.set(title = \"# of offensive rebounds in a single game (per team)\", xlabel = '# of offensive rebounds', ylabel='count[games]')\n",
    "plt.legend([],[], frameon = False)\n",
    "plt.show(fig);"
   ]
  },
  {
   "cell_type": "code",
   "execution_count": null,
   "metadata": {},
   "outputs": [],
   "source": [
    "three_best_teams = game_team_score.loc[:, ['TeamID', 'OREB']].groupby(['TeamID']).mean().nlargest(3, columns='OREB')\n",
    "for i, (index, team) in enumerate(three_best_teams.iterrows()):\n",
    "    print(index_to_strings(i, teams_dict[index], 'avg number of offensive rebounds', f'{team.values[0]:.2f}'))"
   ]
  },
  {
   "cell_type": "code",
   "execution_count": null,
   "metadata": {},
   "outputs": [],
   "source": [
    "three_best_players = game_player_score.loc[:, ['PlayerID', 'OREB']].groupby(['PlayerID']).mean().nlargest(3, columns='OREB')\n",
    "for i, (index, player) in enumerate(three_best_players.iterrows()):\n",
    "    print(index_to_strings_players(i, players_dict[index], 'avg number of offensive rebounds', f'{player.values[0]:.2f}'))"
   ]
  },
  {
   "attachments": {},
   "cell_type": "markdown",
   "metadata": {},
   "source": [
    "__Histogram of defensive rebounds in a single game per group in the current season (2022-2023) so far__"
   ]
  },
  {
   "cell_type": "code",
   "execution_count": null,
   "metadata": {},
   "outputs": [],
   "source": [
    "fig = plt.figure(figure_count, figsize = (9, 6))\n",
    "figure_count += 1\n",
    "ax = sns.histplot(game_team_score['DREB'].to_numpy(), alpha = 0.5, kde = True)\n",
    "ax.set(title = \"# of defensive rebounds in a single game (per team)\", xlabel = '# of defensive rebounds', ylabel='count[games]')\n",
    "plt.legend([],[], frameon = False)\n",
    "plt.show(fig);"
   ]
  },
  {
   "cell_type": "code",
   "execution_count": null,
   "metadata": {},
   "outputs": [],
   "source": [
    "three_best_teams = game_team_score.loc[:, ['TeamID', 'DREB']].groupby(['TeamID']).mean().nlargest(3, columns='DREB')\n",
    "for i, (index, team) in enumerate(three_best_teams.iterrows()):\n",
    "    print(index_to_strings(i, teams_dict[index], 'avg number of defensive rebounds', f'{team.values[0]:.2f}'))"
   ]
  },
  {
   "cell_type": "code",
   "execution_count": null,
   "metadata": {},
   "outputs": [],
   "source": [
    "three_best_players = game_player_score.loc[:, ['PlayerID', 'DREB']].groupby(['PlayerID']).mean().nlargest(3, columns='DREB')\n",
    "for i, (index, player) in enumerate(three_best_players.iterrows()):\n",
    "    print(index_to_strings_players(i, players_dict[index], 'avg number of defensive rebounds', f'{player.values[0]:.2f}'))"
   ]
  },
  {
   "attachments": {},
   "cell_type": "markdown",
   "metadata": {},
   "source": [
    "### Asists"
   ]
  },
  {
   "attachments": {},
   "cell_type": "markdown",
   "metadata": {},
   "source": [
    "__Histogram of assits in a single game per group in the current season (2022-2023) so far__"
   ]
  },
  {
   "cell_type": "code",
   "execution_count": null,
   "metadata": {},
   "outputs": [],
   "source": [
    "fig = plt.figure(figure_count, figsize = (9, 6))\n",
    "figure_count += 1\n",
    "ax = sns.histplot(game_team_score['AST'].to_numpy(), alpha = 0.5, kde = True)\n",
    "ax.set(title = \"# of assits in a single game (per team)\", xlabel = '# of assits', ylabel='count[games]')\n",
    "plt.legend([],[], frameon = False)\n",
    "plt.show(fig);"
   ]
  },
  {
   "cell_type": "code",
   "execution_count": null,
   "metadata": {},
   "outputs": [],
   "source": [
    "three_best_teams = game_team_score.loc[:, ['TeamID', 'AST']].groupby(['TeamID']).mean().nlargest(3, columns='AST')\n",
    "for i, (index, team) in enumerate(three_best_teams.iterrows()):\n",
    "    print(index_to_strings(i, teams_dict[index], 'avg of assits', f'{team.values[0]:.2f}'))"
   ]
  },
  {
   "attachments": {},
   "cell_type": "markdown",
   "metadata": {},
   "source": [
    "### Blocks"
   ]
  },
  {
   "attachments": {},
   "cell_type": "markdown",
   "metadata": {},
   "source": [
    "__Histogram of blocks in a single game per group in the current season (2022-2023) so far__"
   ]
  },
  {
   "cell_type": "code",
   "execution_count": null,
   "metadata": {},
   "outputs": [],
   "source": [
    "fig = plt.figure(figure_count, figsize = (9, 6))\n",
    "figure_count += 1\n",
    "ax = sns.histplot(game_team_score['BLK'].to_numpy(), alpha = 0.5, kde = True, bins = np.arange(0, 18))\n",
    "ax.set(title = \"# of blocks in a single game (per team)\", xlabel = '# of blocks', ylabel='count[games]')\n",
    "plt.legend([],[], frameon = False)\n",
    "plt.show(fig);"
   ]
  },
  {
   "cell_type": "code",
   "execution_count": null,
   "metadata": {},
   "outputs": [],
   "source": [
    "three_best_teams = game_team_score.loc[:, ['TeamID', 'BLK']].groupby(['TeamID']).mean().nlargest(3, columns='BLK')\n",
    "for i, (index, team) in enumerate(three_best_teams.iterrows()):\n",
    "    print(index_to_strings(i, teams_dict[index], 'avg of blocks', f'{team.values[0]:.2f}'))"
   ]
  },
  {
   "attachments": {},
   "cell_type": "markdown",
   "metadata": {},
   "source": [
    "### Steals"
   ]
  },
  {
   "attachments": {},
   "cell_type": "markdown",
   "metadata": {},
   "source": [
    "__Histogram of steals in a single game per group in the current season (2022-2023) so far__"
   ]
  },
  {
   "cell_type": "code",
   "execution_count": null,
   "metadata": {},
   "outputs": [],
   "source": [
    "fig = plt.figure(figure_count, figsize = (9, 6))\n",
    "figure_count += 1\n",
    "ax = sns.histplot(game_team_score['STL'].to_numpy(), alpha = 0.5, kde = True, bins = 20)\n",
    "ax.set(title = \"# of steals in a single game (per team)\", xlabel = '# of steals', ylabel='count[games]')\n",
    "plt.legend([],[], frameon = False)\n",
    "plt.show(fig);"
   ]
  },
  {
   "attachments": {},
   "cell_type": "markdown",
   "metadata": {},
   "source": [
    "### Turnovers"
   ]
  },
  {
   "attachments": {},
   "cell_type": "markdown",
   "metadata": {},
   "source": [
    "__Histogram of turnovers in a single game per group in the current season (2022-2023) so far__"
   ]
  },
  {
   "cell_type": "code",
   "execution_count": null,
   "metadata": {},
   "outputs": [],
   "source": [
    "fig = plt.figure(figure_count, figsize = (9, 6))\n",
    "figure_count += 1\n",
    "ax = sns.histplot(game_team_score['TO'].to_numpy(), alpha = 0.5, kde = True, bins = 20)\n",
    "ax.set(title = \"# of turnovers in a single game (per team)\", xlabel = '# of turnovers', ylabel='count[games]')\n",
    "plt.legend([],[], frameon = False)\n",
    "plt.show(fig);"
   ]
  },
  {
   "attachments": {},
   "cell_type": "markdown",
   "metadata": {},
   "source": [
    "### Teams \"Power Ranking\""
   ]
  },
  {
   "cell_type": "code",
   "execution_count": null,
   "metadata": {},
   "outputs": [],
   "source": [
    "game_team_score_grouped = game_team_score.groupby(['TeamID']).mean().reset_index()"
   ]
  },
  {
   "cell_type": "code",
   "execution_count": null,
   "metadata": {},
   "outputs": [],
   "source": [
    "teams_wins = {teamID: 0 for teamID in teams_dict.keys()}    \n",
    "\n",
    "for i, row in finished_games.iterrows():        \n",
    "    visitor_team_pts = game_team_score.loc[(game_team_score['GameID'] == row['ID']) & (game_team_score['TeamID'] == row['VisitorTeamID']), 'PTS'].to_numpy()[0]\n",
    "    home_team_pts = game_team_score.loc[(game_team_score['GameID'] == row['ID']) & (game_team_score['TeamID'] == row['HomeTeamID']), 'PTS'].to_numpy()[0]\n",
    "    \n",
    "    if visitor_team_pts > home_team_pts:\n",
    "       teams_wins[row['VisitorTeamID']] += 1\n",
    "\n",
    "    else:\n",
    "        teams_wins[row['HomeTeamID']] += 1\n",
    "\n",
    "for key, value in teams_wins.items():\n",
    "    game_team_score_grouped.loc[game_team_score_grouped['TeamID'] == key, 'wins'] = value"
   ]
  },
  {
   "cell_type": "code",
   "execution_count": null,
   "metadata": {},
   "outputs": [],
   "source": [
    "game_team_score_grouped['TeamScore'] = 0.2 * game_team_score_grouped['wins'] + \\\n",
    "                                        0.2 * game_team_score_grouped['PTS'] + \\\n",
    "                                        0.2 * game_team_score_grouped['AST'] + \\\n",
    "                                        0.1 * game_team_score_grouped['STL'] + \\\n",
    "                                        0.1 * game_team_score_grouped['BLK'] + \\\n",
    "                                        0.2 * game_team_score_grouped['REB']"
   ]
  },
  {
   "cell_type": "code",
   "execution_count": null,
   "metadata": {},
   "outputs": [],
   "source": [
    "three_best_teams = game_team_score_grouped.nlargest(3, columns='TeamScore')\n",
    "for i, (index, team) in enumerate(three_best_teams.iterrows()):\n",
    "    print(index_to_strings(i, teams_dict[team['TeamID']], 'overall score', ''))"
   ]
  },
  {
   "attachments": {},
   "cell_type": "markdown",
   "metadata": {},
   "source": [
    "### Players \"Power Ranking\""
   ]
  },
  {
   "cell_type": "code",
   "execution_count": null,
   "metadata": {},
   "outputs": [],
   "source": [
    "game_player_score_grouped = game_player_score.groupby(['PlayerID']).mean()\n",
    "game_player_score_grouped['PlayerScore'] = 0.4 * game_player_score_grouped['PTS'] + \\\n",
    "                                            0.2 * game_player_score_grouped['AST'] + \\\n",
    "                                            0.1 * game_player_score_grouped['STL'] + \\\n",
    "                                            0.1 * game_player_score_grouped['BLK'] + \\\n",
    "                                            0.2 * game_player_score_grouped['REB']"
   ]
  },
  {
   "cell_type": "code",
   "execution_count": null,
   "metadata": {},
   "outputs": [],
   "source": [
    "three_best_players = game_player_score_grouped.nlargest(3, columns='PlayerScore')\n",
    "for i, (index, player) in enumerate(three_best_players.iterrows()):\n",
    "    print(index_to_strings_players(i, players_dict[index], 'overall score', ''))"
   ]
  },
  {
   "attachments": {},
   "cell_type": "markdown",
   "metadata": {},
   "source": [
    "## Team level analysis\n",
    "seleceted team - Phoenix Suns"
   ]
  },
  {
   "cell_type": "code",
   "execution_count": null,
   "metadata": {},
   "outputs": [],
   "source": [
    "selected_team_ID = 1610612756\n",
    "selected_team_games = finished_games.loc[(finished_games['HomeTeamID'] == selected_team_ID) | (finished_games['VisitorTeamID'] == selected_team_ID), :]\n",
    "\n",
    "for i, row in selected_team_games.iterrows():\n",
    "    # print(type(row['HomeTeamID']))\n",
    "    if row['HomeTeamID'] == selected_team_ID:\n",
    "        home = True\n",
    "        selected_team_games.loc[selected_team_games['ID'] == row['ID'], 'home'] = True\n",
    "    else:\n",
    "        home = False\n",
    "        selected_team_games.loc[selected_team_games['ID'] == row['ID'], 'home'] = False\n",
    "\n",
    "    selected_team_pts = game_team_score.loc[(game_team_score['GameID'] == row['ID']) & (game_team_score['TeamID'] == selected_team_ID), 'PTS'].to_numpy()[0]\n",
    "\n",
    "    # Fill the df with stats from the game\n",
    "    selected_team_games.loc[selected_team_games['ID'] == row['ID'], 'PTS'] = selected_team_pts\n",
    "    selected_team_games.loc[selected_team_games['ID'] == row['ID'], 'FGPER'] = game_team_score.loc[(game_team_score['GameID'] == row['ID']) & (game_team_score['TeamID'] == selected_team_ID), 'FGPER'].to_numpy()[0]\n",
    "    selected_team_games.loc[selected_team_games['ID'] == row['ID'], 'ThreePPER'] = game_team_score.loc[(game_team_score['GameID'] == row['ID']) & (game_team_score['TeamID'] == selected_team_ID), 'ThreePPER'].to_numpy()[0]\n",
    "    selected_team_games.loc[selected_team_games['ID'] == row['ID'], '3FGM_to_FGM'] = game_team_score.loc[(game_team_score['GameID'] == row['ID']) & (game_team_score['TeamID'] == selected_team_ID), '3FGM_to_FGM'].to_numpy()[0]\n",
    "    # selected_team_games.loc[selected_team_games['ID'] == row['ID'], 'AST'] = game_team_score.loc[(game_team_score['GameID'] == row['ID']) & (game_team_score['TeamID'] == selected_team_ID), 'AST'].to_numpy()[0]\n",
    "    # selected_team_games.loc[selected_team_games['ID'] == row['ID'], 'BLK'] = game_team_score.loc[(game_team_score['GameID'] == row['ID']) & (game_team_score['TeamID'] == selected_team_ID), 'BLK'].to_numpy()[0]\n",
    "    # selected_team_games.loc[selected_team_games['ID'] == row['ID'], 'DREB'] = game_team_score.loc[(game_team_score['GameID'] == row['ID']) & (game_team_score['TeamID'] == selected_team_ID), 'DREB'].to_numpy()[0]\n",
    "    # selected_team_games.loc[selected_team_games['ID'] == row['ID'], 'FGA'] = game_team_score.loc[(game_team_score['GameID'] == row['ID']) & (game_team_score['TeamID'] == selected_team_ID), 'FGA'].to_numpy()[0]\n",
    "    # selected_team_games.loc[selected_team_games['ID'] == row['ID'], 'FGM'] = game_team_score.loc[(game_team_score['GameID'] == row['ID']) & (game_team_score['TeamID'] == selected_team_ID), 'FGM'].to_numpy()[0]\n",
    "    # selected_team_games.loc[selected_team_games['ID'] == row['ID'], 'FTA'] = game_team_score.loc[(game_team_score['GameID'] == row['ID']) & (game_team_score['TeamID'] == selected_team_ID), 'FTA'].to_numpy()[0]\n",
    "    # selected_team_games.loc[selected_team_games['ID'] == row['ID'], 'FTM'] = game_team_score.loc[(game_team_score['GameID'] == row['ID']) & (game_team_score['TeamID'] == selected_team_ID), 'FTM'].to_numpy()[0]\n",
    "    # selected_team_games.loc[selected_team_games['ID'] == row['ID'], 'FTPER'] = game_team_score.loc[(game_team_score['GameID'] == row['ID']) & (game_team_score['TeamID'] == selected_team_ID), 'FTPER'].to_numpy()[0]\n",
    "    # selected_team_games.loc[selected_team_games['ID'] == row['ID'], 'ThreePA'] = game_team_score.loc[(game_team_score['GameID'] == row['ID']) & (game_team_score['TeamID'] == selected_team_ID), 'ThreePA'].to_numpy()[0]\n",
    "    # selected_team_games.loc[selected_team_games['ID'] == row['ID'], 'ThreePM'] = game_team_score.loc[(game_team_score['GameID'] == row['ID']) & (game_team_score['TeamID'] == selected_team_ID), 'ThreePM'].to_numpy()[0]\n",
    "    # selected_team_games.loc[selected_team_games['ID'] == row['ID'], 'OREB'] = game_team_score.loc[(game_team_score['GameID'] == row['ID']) & (game_team_score['TeamID'] == selected_team_ID), 'OREB'].to_numpy()[0]\n",
    "    # selected_team_games.loc[selected_team_games['ID'] == row['ID'], 'REB'] = game_team_score.loc[(game_team_score['GameID'] == row['ID']) & (game_team_score['TeamID'] == selected_team_ID), 'REB'].to_numpy()[0]\n",
    "    # selected_team_games.loc[selected_team_games['ID'] == row['ID'], 'STL'] = game_team_score.loc[(game_team_score['GameID'] == row['ID']) & (game_team_score['TeamID'] == selected_team_ID), 'STL'].to_numpy()[0]\n",
    "    # selected_team_games.loc[selected_team_games['ID'] == row['ID'], 'TO'] = game_team_score.loc[(game_team_score['GameID'] == row['ID']) & (game_team_score['TeamID'] == selected_team_ID), 'TO'].to_numpy()[0]\n",
    "\n",
    "    # print(selected_team_pts)\n",
    "\n",
    "    if home:\n",
    "        other_team_pts = game_team_score.loc[(game_team_score['GameID'] == row['ID']) & (game_team_score['TeamID'] == row['VisitorTeamID']), 'PTS'].to_numpy()[0]\n",
    "    else:\n",
    "        other_team_pts = game_team_score.loc[(game_team_score['GameID'] == row['ID']) & (game_team_score['TeamID'] == row['HomeTeamID']), 'PTS'].to_numpy()[0]\n",
    "    \n",
    "    # print(other_team_pts)\n",
    "\n",
    "    if other_team_pts > selected_team_pts:\n",
    "        selected_team_games.loc[selected_team_games['ID'] == row['ID'], 'result'] = 'L'\n",
    "    else:\n",
    "        selected_team_games.loc[selected_team_games['ID'] == row['ID'], 'result'] = 'W'\n"
   ]
  },
  {
   "cell_type": "code",
   "execution_count": null,
   "metadata": {},
   "outputs": [],
   "source": [
    "fig = plt.figure(figure_count, figsize = (9, 6))\n",
    "figure_count += 1\n",
    "ax = sns.histplot(selected_team_games['result'].to_numpy(), alpha = 0.5)\n",
    "ax.set(title = \"Game results this season\", xlabel = 'result', ylabel='count[games]')\n",
    "plt.legend([],[], frameon = False)\n",
    "plt.show(fig);"
   ]
  },
  {
   "cell_type": "code",
   "execution_count": null,
   "metadata": {},
   "outputs": [],
   "source": [
    "fig = plt.figure(figure_count, figsize = (9, 6))\n",
    "figure_count += 1\n",
    "ax = sns.histplot(selected_team_games.loc[selected_team_games['home'] == True, 'result'].to_numpy(), alpha = 0.5)\n",
    "ax.set(title = \"Game at home results this season\", xlabel = 'result', ylabel='count[games]')\n",
    "plt.legend([],[], frameon = False)\n",
    "plt.show(fig);"
   ]
  },
  {
   "cell_type": "code",
   "execution_count": null,
   "metadata": {},
   "outputs": [],
   "source": [
    "selected_team_games_copy = selected_team_games.to_pandas().set_index('Date')\n",
    "\n",
    "line_plot = selected_team_games_copy.home\n",
    "\n",
    "line_plot2 = selected_team_games_copy.result\n",
    "\n",
    "bar_plot = line_plot.groupby([line_plot.index.year, line_plot.index.month, line_plot2]).count().unstack()\n",
    "\n",
    "fig, ax = plt.subplots(num = figure_count)\n",
    "figure_count += 1\n",
    "plt.subplots_adjust(left=0.1, right=0.9, top=0.9, bottom=0.17)\n",
    "bar_plot.plot(ax = ax, kind='bar', figsize=(9, 6), colormap='coolwarm', alpha = 0.5)\n",
    "ax.set_xlabel('Date of game [year, month]')\n",
    "ax.set_ylabel('Count [games]')\n",
    "ax.set_title('All games Win/Lose segmentation per month')\n",
    "plt.show(fig);"
   ]
  },
  {
   "cell_type": "code",
   "execution_count": null,
   "metadata": {},
   "outputs": [],
   "source": [
    "selected_team_games_at_home_copy = selected_team_games.loc[selected_team_games['home'] == True, :].to_pandas().set_index('Date')\n",
    "\n",
    "line_plot = selected_team_games_at_home_copy.home\n",
    "\n",
    "line_plot2 = selected_team_games_at_home_copy.result\n",
    "\n",
    "bar_plot = line_plot.groupby([line_plot.index.year, line_plot.index.month, line_plot2]).count().unstack()\n",
    "\n",
    "fig, ax = plt.subplots(num = figure_count)\n",
    "figure_count += 1\n",
    "plt.subplots_adjust(left=0.1, right=0.9, top=0.9, bottom=0.17)\n",
    "bar_plot.plot(ax = ax, kind='bar', figsize=(9, 6), colormap='coolwarm', alpha = 0.5)\n",
    "ax.set_xlabel('Date of game [year, month]')\n",
    "ax.set_ylabel('Count [games]')\n",
    "ax.set_title('Home games Win/Lose segmentation per month')\n",
    "plt.show(fig);"
   ]
  },
  {
   "cell_type": "code",
   "execution_count": null,
   "metadata": {},
   "outputs": [],
   "source": [
    "line_plot = selected_team_games_copy.home\n",
    "\n",
    "bar_plot = selected_team_games_copy['3FGM_to_FGM'].groupby([line_plot.index.year, line_plot.index.month]).mean()\n",
    "\n",
    "fig, ax = plt.subplots(num = figure_count)\n",
    "figure_count += 1\n",
    "plt.subplots_adjust(left=0.1, right=0.9, top=0.9, bottom=0.17)\n",
    "bar_plot.plot(ax = ax, kind='bar', figsize=(9, 6), colormap='coolwarm', alpha = 0.5)\n",
    "ax.set_xlabel('Date of game [year, month]')\n",
    "ax.set_ylabel('Count [games]')\n",
    "ax.set_title('3FGM out of FGM per month')\n",
    "plt.show(fig);"
   ]
  },
  {
   "cell_type": "code",
   "execution_count": null,
   "metadata": {},
   "outputs": [],
   "source": [
    "bar_plot = selected_team_games_copy['ThreePPER'].groupby([line_plot.index.year, line_plot.index.month]).mean()\n",
    "\n",
    "fig, ax = plt.subplots(num = figure_count)\n",
    "figure_count += 1\n",
    "plt.subplots_adjust(left=0.1, right=0.9, top=0.9, bottom=0.17)\n",
    "bar_plot.plot(ax = ax, kind='bar', figsize=(9, 6), colormap='coolwarm', alpha = 0.5)\n",
    "ax.set_xlabel('Date of game [year, month]')\n",
    "ax.set_ylabel('Count [games]')\n",
    "ax.set_title('3FG% per month')\n",
    "plt.show(fig);"
   ]
  },
  {
   "cell_type": "code",
   "execution_count": null,
   "metadata": {},
   "outputs": [],
   "source": [
    "\n",
    "grouped = pd.DataFrame(game_line_up.loc[game_line_up['TeamID'] == selected_team_ID, ['GameID', 'PlayerID']].to_pandas().groupby('GameID')['PlayerID'].apply(list))\n",
    "for gameID in grouped.index:\n",
    "    grouped.loc[gameID, 'result'] = selected_team_games.loc[selected_team_games['ID'] == gameID, 'result'].to_numpy()[0]"
   ]
  },
  {
   "cell_type": "code",
   "execution_count": null,
   "metadata": {},
   "outputs": [],
   "source": [
    "grouped['PlayerID'] = grouped.PlayerID.apply(tuple)\n",
    "bar_plot = grouped.reset_index().groupby(['PlayerID', 'result'])['GameID'].count().unstack()\n",
    "\n",
    "fig, ax = plt.subplots(num = figure_count)\n",
    "figure_count += 1\n",
    "plt.subplots_adjust(left=0.1, right=0.9, top=0.9, bottom=0.17)\n",
    "bar_plot.plot(ax = ax, kind='bar', figsize=(9, 6), colormap='coolwarm', alpha = 0.5)\n",
    "ax.set_xlabel('Players group')\n",
    "ax.set_ylabel('Count [games]')\n",
    "ax.set_title('Win/Lose segmentation according to players praticipating in the game')\n",
    "ax.set_xticklabels(['Group A', 'Group B', 'Group C', 'Group D', 'Group E', 'Group F'])\n",
    "plt.show(fig);"
   ]
  },
  {
   "cell_type": "code",
   "execution_count": null,
   "metadata": {},
   "outputs": [],
   "source": [
    "switcher = {\n",
    "        0: 'A',\n",
    "        1: 'B',\n",
    "        2: 'C',\n",
    "        3: 'D',\n",
    "        4: 'E',\n",
    "        5: 'F'\n",
    "    }\n",
    "for i, players in enumerate(bar_plot.index):\n",
    "    print(f'Players in group {switcher[i]}:')\n",
    "    print([players_dict[player] for player in players])"
   ]
  },
  {
   "cell_type": "code",
   "execution_count": null,
   "metadata": {},
   "outputs": [],
   "source": []
  }
 ],
 "metadata": {
  "kernelspec": {
   "display_name": "base",
   "language": "python",
   "name": "python3"
  },
  "language_info": {
   "codemirror_mode": {
    "name": "ipython",
    "version": 3
   },
   "file_extension": ".py",
   "mimetype": "text/x-python",
   "name": "python",
   "nbconvert_exporter": "python",
   "pygments_lexer": "ipython3",
   "version": "3.9.13"
  },
  "orig_nbformat": 4,
  "vscode": {
   "interpreter": {
    "hash": "c6e4e9f98eb68ad3b7c296f83d20e6de614cb42e90992a65aa266555a3137d0d"
   }
  }
 },
 "nbformat": 4,
 "nbformat_minor": 2
}
